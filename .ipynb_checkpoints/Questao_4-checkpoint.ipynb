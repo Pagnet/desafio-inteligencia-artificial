{
 "cells": [
  {
   "cell_type": "code",
   "execution_count": 19,
   "id": "d64b46fe-f833-400c-b9a9-67e79f816dad",
   "metadata": {},
   "outputs": [],
   "source": [
    "from funcs import fact, expo\n",
    "import numpy as np"
   ]
  },
  {
   "cell_type": "code",
   "execution_count": 20,
   "id": "40fef03d-ab61-4fdd-b180-02b6c9baf10c",
   "metadata": {},
   "outputs": [],
   "source": [
    "e4 = np.exp(4)"
   ]
  },
  {
   "cell_type": "code",
   "execution_count": 21,
   "id": "0427a274-b444-43c3-b1e2-90de83576d9a",
   "metadata": {},
   "outputs": [
    {
     "ename": "TypeError",
     "evalue": "O argumento deve ser um inteiro",
     "output_type": "error",
     "traceback": [
      "\u001b[1;31m---------------------------------------------------------------------------\u001b[0m",
      "\u001b[1;31mTypeError\u001b[0m                                 Traceback (most recent call last)",
      "Cell \u001b[1;32mIn[21], line 4\u001b[0m\n\u001b[0;32m      1\u001b[0m \u001b[38;5;66;03m# Erro Absoluto\u001b[39;00m\n\u001b[0;32m      3\u001b[0m \u001b[38;5;28;01mfor\u001b[39;00m i \u001b[38;5;129;01min\u001b[39;00m [\u001b[38;5;241m5\u001b[39m,\u001b[38;5;241m15\u001b[39m,\u001b[38;5;241m20\u001b[39m,\u001b[38;5;241m30\u001b[39m]:\n\u001b[1;32m----> 4\u001b[0m     \u001b[38;5;28mprint\u001b[39m(\u001b[38;5;124mf\u001b[39m\u001b[38;5;124m'\u001b[39m\u001b[38;5;124mO erro absoluto para N = \u001b[39m\u001b[38;5;132;01m{\u001b[39;00mi\u001b[38;5;132;01m}\u001b[39;00m\u001b[38;5;124m é \u001b[39m\u001b[38;5;132;01m{\u001b[39;00mnp\u001b[38;5;241m.\u001b[39mabs(expo(\u001b[38;5;241m4\u001b[39m,i)\u001b[38;5;241m-\u001b[39me4)\u001b[38;5;132;01m}\u001b[39;00m\u001b[38;5;124m'\u001b[39m)\n",
      "File \u001b[1;32m~\\Desktop\\portfolio_projetos\\desafio-inteligencia-artificial\\funcs.py:15\u001b[0m, in \u001b[0;36mexpo\u001b[1;34m(x, N)\u001b[0m\n\u001b[0;32m     13\u001b[0m     \u001b[38;5;28;01mreturn\u001b[39;00m(\u001b[38;5;241m1\u001b[39m)\n\u001b[0;32m     14\u001b[0m \u001b[38;5;28;01melse\u001b[39;00m:\n\u001b[1;32m---> 15\u001b[0m     \u001b[38;5;28;01mreturn\u001b[39;00m(x\u001b[38;5;241m*\u001b[39m\u001b[38;5;241m*\u001b[39mN\u001b[38;5;241m/\u001b[39mfact(N) \u001b[38;5;241m+\u001b[39m expo(x,N\u001b[38;5;241m-\u001b[39m\u001b[38;5;241m1\u001b[39m))\n",
      "File \u001b[1;32m~\\Desktop\\portfolio_projetos\\desafio-inteligencia-artificial\\funcs.py:3\u001b[0m, in \u001b[0;36mfact\u001b[1;34m(N)\u001b[0m\n\u001b[0;32m      1\u001b[0m \u001b[38;5;28;01mdef\u001b[39;00m \u001b[38;5;21mfact\u001b[39m(N):\n\u001b[0;32m      2\u001b[0m     \u001b[38;5;28;01mif\u001b[39;00m \u001b[38;5;28misinstance\u001b[39m(N, \u001b[38;5;28mint\u001b[39m):\n\u001b[1;32m----> 3\u001b[0m         \u001b[38;5;28;01mraise\u001b[39;00m \u001b[38;5;167;01mTypeError\u001b[39;00m(\u001b[38;5;124m\"\u001b[39m\u001b[38;5;124mO argumento deve ser um inteiro\u001b[39m\u001b[38;5;124m\"\u001b[39m)\n\u001b[0;32m      4\u001b[0m     \u001b[38;5;28;01mif\u001b[39;00m N \u001b[38;5;241m<\u001b[39m \u001b[38;5;241m0\u001b[39m:\n\u001b[0;32m      5\u001b[0m         \u001b[38;5;28;01mraise\u001b[39;00m \u001b[38;5;167;01mValueError\u001b[39;00m(\u001b[38;5;124m\"\u001b[39m\u001b[38;5;124mO argumento deve ser um inteiro não-negativo\u001b[39m\u001b[38;5;124m\"\u001b[39m)    \n",
      "\u001b[1;31mTypeError\u001b[0m: O argumento deve ser um inteiro"
     ]
    }
   ],
   "source": [
    "# Erro Absoluto\n",
    "\n",
    "for i in [5,15,20,30]:\n",
    "    print(f'O erro absoluto para N = {i} é {np.abs(expo(4,i)-e4)}')"
   ]
  },
  {
   "cell_type": "code",
   "execution_count": 22,
   "id": "e502d4a0-24cd-4807-ae92-1eed8f2e001c",
   "metadata": {},
   "outputs": [
    {
     "ename": "TypeError",
     "evalue": "O argumento deve ser um inteiro",
     "output_type": "error",
     "traceback": [
      "\u001b[1;31m---------------------------------------------------------------------------\u001b[0m",
      "\u001b[1;31mTypeError\u001b[0m                                 Traceback (most recent call last)",
      "Cell \u001b[1;32mIn[22], line 4\u001b[0m\n\u001b[0;32m      1\u001b[0m \u001b[38;5;66;03m# Erro Relativo\u001b[39;00m\n\u001b[0;32m      3\u001b[0m \u001b[38;5;28;01mfor\u001b[39;00m i \u001b[38;5;129;01min\u001b[39;00m [\u001b[38;5;241m5\u001b[39m,\u001b[38;5;241m15\u001b[39m,\u001b[38;5;241m20\u001b[39m,\u001b[38;5;241m30\u001b[39m]:\n\u001b[1;32m----> 4\u001b[0m     \u001b[38;5;28mprint\u001b[39m(\u001b[38;5;124mf\u001b[39m\u001b[38;5;124m'\u001b[39m\u001b[38;5;124mO erro absoluto para N = \u001b[39m\u001b[38;5;132;01m{\u001b[39;00mi\u001b[38;5;132;01m}\u001b[39;00m\u001b[38;5;124m é \u001b[39m\u001b[38;5;132;01m{\u001b[39;00mnp\u001b[38;5;241m.\u001b[39mabs(expo(\u001b[38;5;241m4\u001b[39m,i)\u001b[38;5;241m-\u001b[39me4)\u001b[38;5;241m/\u001b[39me4\u001b[38;5;132;01m}\u001b[39;00m\u001b[38;5;124m'\u001b[39m)\n",
      "File \u001b[1;32m~\\Desktop\\portfolio_projetos\\desafio-inteligencia-artificial\\funcs.py:15\u001b[0m, in \u001b[0;36mexpo\u001b[1;34m(x, N)\u001b[0m\n\u001b[0;32m     13\u001b[0m     \u001b[38;5;28;01mreturn\u001b[39;00m(\u001b[38;5;241m1\u001b[39m)\n\u001b[0;32m     14\u001b[0m \u001b[38;5;28;01melse\u001b[39;00m:\n\u001b[1;32m---> 15\u001b[0m     \u001b[38;5;28;01mreturn\u001b[39;00m(x\u001b[38;5;241m*\u001b[39m\u001b[38;5;241m*\u001b[39mN\u001b[38;5;241m/\u001b[39mfact(N) \u001b[38;5;241m+\u001b[39m expo(x,N\u001b[38;5;241m-\u001b[39m\u001b[38;5;241m1\u001b[39m))\n",
      "File \u001b[1;32m~\\Desktop\\portfolio_projetos\\desafio-inteligencia-artificial\\funcs.py:3\u001b[0m, in \u001b[0;36mfact\u001b[1;34m(N)\u001b[0m\n\u001b[0;32m      1\u001b[0m \u001b[38;5;28;01mdef\u001b[39;00m \u001b[38;5;21mfact\u001b[39m(N):\n\u001b[0;32m      2\u001b[0m     \u001b[38;5;28;01mif\u001b[39;00m \u001b[38;5;28misinstance\u001b[39m(N, \u001b[38;5;28mint\u001b[39m):\n\u001b[1;32m----> 3\u001b[0m         \u001b[38;5;28;01mraise\u001b[39;00m \u001b[38;5;167;01mTypeError\u001b[39;00m(\u001b[38;5;124m\"\u001b[39m\u001b[38;5;124mO argumento deve ser um inteiro\u001b[39m\u001b[38;5;124m\"\u001b[39m)\n\u001b[0;32m      4\u001b[0m     \u001b[38;5;28;01mif\u001b[39;00m N \u001b[38;5;241m<\u001b[39m \u001b[38;5;241m0\u001b[39m:\n\u001b[0;32m      5\u001b[0m         \u001b[38;5;28;01mraise\u001b[39;00m \u001b[38;5;167;01mValueError\u001b[39;00m(\u001b[38;5;124m\"\u001b[39m\u001b[38;5;124mO argumento deve ser um inteiro não-negativo\u001b[39m\u001b[38;5;124m\"\u001b[39m)    \n",
      "\u001b[1;31mTypeError\u001b[0m: O argumento deve ser um inteiro"
     ]
    }
   ],
   "source": [
    "# Erro Relativo\n",
    "\n",
    "for i in [5,15,20,30]:\n",
    "    print(f'O erro absoluto para N = {i} é {np.abs(expo(4,i)-e4)/e4}')"
   ]
  },
  {
   "cell_type": "code",
   "execution_count": 23,
   "id": "9655e969-da72-4e2b-b99a-1d1cc0f55779",
   "metadata": {},
   "outputs": [
    {
     "ename": "TypeError",
     "evalue": "O argumento deve ser um inteiro",
     "output_type": "error",
     "traceback": [
      "\u001b[1;31m---------------------------------------------------------------------------\u001b[0m",
      "\u001b[1;31mTypeError\u001b[0m                                 Traceback (most recent call last)",
      "Cell \u001b[1;32mIn[23], line 1\u001b[0m\n\u001b[1;32m----> 1\u001b[0m fact(\u001b[38;5;241m5\u001b[39m)\n",
      "File \u001b[1;32m~\\Desktop\\portfolio_projetos\\desafio-inteligencia-artificial\\funcs.py:3\u001b[0m, in \u001b[0;36mfact\u001b[1;34m(N)\u001b[0m\n\u001b[0;32m      1\u001b[0m \u001b[38;5;28;01mdef\u001b[39;00m \u001b[38;5;21mfact\u001b[39m(N):\n\u001b[0;32m      2\u001b[0m     \u001b[38;5;28;01mif\u001b[39;00m \u001b[38;5;28misinstance\u001b[39m(N, \u001b[38;5;28mint\u001b[39m):\n\u001b[1;32m----> 3\u001b[0m         \u001b[38;5;28;01mraise\u001b[39;00m \u001b[38;5;167;01mTypeError\u001b[39;00m(\u001b[38;5;124m\"\u001b[39m\u001b[38;5;124mO argumento deve ser um inteiro\u001b[39m\u001b[38;5;124m\"\u001b[39m)\n\u001b[0;32m      4\u001b[0m     \u001b[38;5;28;01mif\u001b[39;00m N \u001b[38;5;241m<\u001b[39m \u001b[38;5;241m0\u001b[39m:\n\u001b[0;32m      5\u001b[0m         \u001b[38;5;28;01mraise\u001b[39;00m \u001b[38;5;167;01mValueError\u001b[39;00m(\u001b[38;5;124m\"\u001b[39m\u001b[38;5;124mO argumento deve ser um inteiro não-negativo\u001b[39m\u001b[38;5;124m\"\u001b[39m)    \n",
      "\u001b[1;31mTypeError\u001b[0m: O argumento deve ser um inteiro"
     ]
    }
   ],
   "source": [
    "fact(5)"
   ]
  },
  {
   "cell_type": "code",
   "execution_count": null,
   "id": "64d96372-1672-4ae6-bf42-ba73973323b6",
   "metadata": {},
   "outputs": [],
   "source": []
  },
  {
   "cell_type": "code",
   "execution_count": null,
   "id": "748d6b52-8d38-48b6-8814-c18beb7bb035",
   "metadata": {},
   "outputs": [],
   "source": []
  }
 ],
 "metadata": {
  "kernelspec": {
   "display_name": "Python 3 (ipykernel)",
   "language": "python",
   "name": "python3"
  },
  "language_info": {
   "codemirror_mode": {
    "name": "ipython",
    "version": 3
   },
   "file_extension": ".py",
   "mimetype": "text/x-python",
   "name": "python",
   "nbconvert_exporter": "python",
   "pygments_lexer": "ipython3",
   "version": "3.11.7"
  }
 },
 "nbformat": 4,
 "nbformat_minor": 5
}
