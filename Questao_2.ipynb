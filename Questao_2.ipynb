{
 "cells": [
  {
   "cell_type": "markdown",
   "id": "585e27dc-bf5c-4443-ae7d-e699d6689ff9",
   "metadata": {},
   "source": [
    "# Importação dos dados"
   ]
  },
  {
   "cell_type": "code",
   "execution_count": 1,
   "id": "659d8385-27e4-4006-9159-80f87af4190f",
   "metadata": {},
   "outputs": [],
   "source": [
    "import pandas as pd"
   ]
  },
  {
   "cell_type": "markdown",
   "id": "fcad5077-a231-4a4a-b7ec-51c1cb364cff",
   "metadata": {},
   "source": [
    "# Exploração/pré-processamento"
   ]
  },
  {
   "cell_type": "code",
   "execution_count": 2,
   "id": "bdb740db-ff31-4781-97e4-e2726907c40e",
   "metadata": {},
   "outputs": [],
   "source": [
    "df = pd.read_csv('cobrancas_ia.csv', delimiter= ';', index_col=[0])"
   ]
  },
  {
   "cell_type": "code",
   "execution_count": 3,
   "id": "55268e8e-6cfa-4096-b1ca-8cf7a230897a",
   "metadata": {},
   "outputs": [
    {
     "data": {
      "text/html": [
       "<div>\n",
       "<style scoped>\n",
       "    .dataframe tbody tr th:only-of-type {\n",
       "        vertical-align: middle;\n",
       "    }\n",
       "\n",
       "    .dataframe tbody tr th {\n",
       "        vertical-align: top;\n",
       "    }\n",
       "\n",
       "    .dataframe thead th {\n",
       "        text-align: right;\n",
       "    }\n",
       "</style>\n",
       "<table border=\"1\" class=\"dataframe\">\n",
       "  <thead>\n",
       "    <tr style=\"text-align: right;\">\n",
       "      <th></th>\n",
       "      <th>cobrador_id</th>\n",
       "      <th>cobrado_id</th>\n",
       "      <th>data</th>\n",
       "      <th>valor</th>\n",
       "    </tr>\n",
       "    <tr>\n",
       "      <th>cobranca_id</th>\n",
       "      <th></th>\n",
       "      <th></th>\n",
       "      <th></th>\n",
       "      <th></th>\n",
       "    </tr>\n",
       "  </thead>\n",
       "  <tbody>\n",
       "    <tr>\n",
       "      <th>1</th>\n",
       "      <td>14</td>\n",
       "      <td>46</td>\n",
       "      <td>01/01/2023</td>\n",
       "      <td>R$ 762,83</td>\n",
       "    </tr>\n",
       "    <tr>\n",
       "      <th>2</th>\n",
       "      <td>41</td>\n",
       "      <td>45</td>\n",
       "      <td>01/01/2023</td>\n",
       "      <td>R$ 1.084,60</td>\n",
       "    </tr>\n",
       "    <tr>\n",
       "      <th>3</th>\n",
       "      <td>24</td>\n",
       "      <td>33</td>\n",
       "      <td>02/01/2023</td>\n",
       "      <td>R$ 1.106,73</td>\n",
       "    </tr>\n",
       "    <tr>\n",
       "      <th>4</th>\n",
       "      <td>26</td>\n",
       "      <td>2</td>\n",
       "      <td>03/01/2023</td>\n",
       "      <td>R$ 1.152,65</td>\n",
       "    </tr>\n",
       "    <tr>\n",
       "      <th>5</th>\n",
       "      <td>7</td>\n",
       "      <td>14</td>\n",
       "      <td>03/01/2023</td>\n",
       "      <td>R$ 1.071,02</td>\n",
       "    </tr>\n",
       "  </tbody>\n",
       "</table>\n",
       "</div>"
      ],
      "text/plain": [
       "             cobrador_id  cobrado_id        data         valor \n",
       "cobranca_id                                                    \n",
       "1                     14          46  01/01/2023     R$ 762,83 \n",
       "2                     41          45  01/01/2023   R$ 1.084,60 \n",
       "3                     24          33  02/01/2023   R$ 1.106,73 \n",
       "4                     26           2  03/01/2023   R$ 1.152,65 \n",
       "5                      7          14  03/01/2023   R$ 1.071,02 "
      ]
     },
     "execution_count": 3,
     "metadata": {},
     "output_type": "execute_result"
    }
   ],
   "source": [
    "df.head()"
   ]
  },
  {
   "cell_type": "code",
   "execution_count": 4,
   "id": "3d1955e8-76a1-4c0a-bc19-1a960998c10b",
   "metadata": {},
   "outputs": [
    {
     "data": {
      "text/html": [
       "<div>\n",
       "<style scoped>\n",
       "    .dataframe tbody tr th:only-of-type {\n",
       "        vertical-align: middle;\n",
       "    }\n",
       "\n",
       "    .dataframe tbody tr th {\n",
       "        vertical-align: top;\n",
       "    }\n",
       "\n",
       "    .dataframe thead th {\n",
       "        text-align: right;\n",
       "    }\n",
       "</style>\n",
       "<table border=\"1\" class=\"dataframe\">\n",
       "  <thead>\n",
       "    <tr style=\"text-align: right;\">\n",
       "      <th></th>\n",
       "      <th>cobrador_id</th>\n",
       "      <th>cobrado_id</th>\n",
       "      <th>data</th>\n",
       "      <th>valor</th>\n",
       "    </tr>\n",
       "    <tr>\n",
       "      <th>cobranca_id</th>\n",
       "      <th></th>\n",
       "      <th></th>\n",
       "      <th></th>\n",
       "      <th></th>\n",
       "    </tr>\n",
       "  </thead>\n",
       "  <tbody>\n",
       "    <tr>\n",
       "      <th>96</th>\n",
       "      <td>13</td>\n",
       "      <td>18</td>\n",
       "      <td>15/02/2023</td>\n",
       "      <td>R$ 895,12</td>\n",
       "    </tr>\n",
       "    <tr>\n",
       "      <th>97</th>\n",
       "      <td>24</td>\n",
       "      <td>48</td>\n",
       "      <td>16/02/2023</td>\n",
       "      <td>R$ 1.444,40</td>\n",
       "    </tr>\n",
       "    <tr>\n",
       "      <th>98</th>\n",
       "      <td>35</td>\n",
       "      <td>36</td>\n",
       "      <td>17/02/2023</td>\n",
       "      <td>R$ 1.276,46</td>\n",
       "    </tr>\n",
       "    <tr>\n",
       "      <th>99</th>\n",
       "      <td>9</td>\n",
       "      <td>41</td>\n",
       "      <td>17/02/2023</td>\n",
       "      <td>R$ 1.157,45</td>\n",
       "    </tr>\n",
       "    <tr>\n",
       "      <th>100</th>\n",
       "      <td>13</td>\n",
       "      <td>18</td>\n",
       "      <td>18/02/2023</td>\n",
       "      <td>R$ 758,43</td>\n",
       "    </tr>\n",
       "  </tbody>\n",
       "</table>\n",
       "</div>"
      ],
      "text/plain": [
       "             cobrador_id  cobrado_id        data         valor \n",
       "cobranca_id                                                    \n",
       "96                    13          18  15/02/2023     R$ 895,12 \n",
       "97                    24          48  16/02/2023   R$ 1.444,40 \n",
       "98                    35          36  17/02/2023   R$ 1.276,46 \n",
       "99                     9          41  17/02/2023   R$ 1.157,45 \n",
       "100                   13          18  18/02/2023     R$ 758,43 "
      ]
     },
     "execution_count": 4,
     "metadata": {},
     "output_type": "execute_result"
    }
   ],
   "source": [
    "df.tail()"
   ]
  },
  {
   "cell_type": "code",
   "execution_count": 5,
   "id": "94ed74f5-aca5-4b5c-8013-a44868968057",
   "metadata": {},
   "outputs": [
    {
     "data": {
      "text/plain": [
       "cobrador_id     int64\n",
       "cobrado_id      int64\n",
       "data           object\n",
       " valor         object\n",
       "dtype: object"
      ]
     },
     "execution_count": 5,
     "metadata": {},
     "output_type": "execute_result"
    }
   ],
   "source": [
    "df.dtypes"
   ]
  },
  {
   "cell_type": "code",
   "execution_count": 6,
   "id": "9ab2460f-c22b-420f-ac02-907b9949f025",
   "metadata": {},
   "outputs": [],
   "source": [
    "df.columns = [c.replace(' ', '') for c in df.columns]"
   ]
  },
  {
   "cell_type": "code",
   "execution_count": 7,
   "id": "526ca5dd-7227-41e5-bb70-218d0e209a5f",
   "metadata": {},
   "outputs": [],
   "source": [
    "df['data'] = pd.to_datetime(df['data'], dayfirst=True)"
   ]
  },
  {
   "cell_type": "code",
   "execution_count": 8,
   "id": "a5fa8f1d-f5f1-4d2f-80d5-10838fa8de01",
   "metadata": {},
   "outputs": [],
   "source": [
    "df.valor = df.valor.str.replace('R$','') # removendo unidade monetária\n",
    "df.valor = df.valor.str.replace(' ','')\n",
    "df.valor = df.valor.str.replace(',','') # trocando vírgula para ponto como separador de decimal\n",
    "df.valor = df.valor.str.replace('.','')\n",
    "\n",
    "df.valor = pd.to_numeric(df.valor)\n",
    "df.valor = df.valor/100"
   ]
  },
  {
   "cell_type": "code",
   "execution_count": 9,
   "id": "5849e80b-4e41-4e0c-9099-4b0c2ab83c57",
   "metadata": {},
   "outputs": [
    {
     "data": {
      "text/html": [
       "<div>\n",
       "<style scoped>\n",
       "    .dataframe tbody tr th:only-of-type {\n",
       "        vertical-align: middle;\n",
       "    }\n",
       "\n",
       "    .dataframe tbody tr th {\n",
       "        vertical-align: top;\n",
       "    }\n",
       "\n",
       "    .dataframe thead th {\n",
       "        text-align: right;\n",
       "    }\n",
       "</style>\n",
       "<table border=\"1\" class=\"dataframe\">\n",
       "  <thead>\n",
       "    <tr style=\"text-align: right;\">\n",
       "      <th></th>\n",
       "      <th>cobrador_id</th>\n",
       "      <th>cobrado_id</th>\n",
       "      <th>data</th>\n",
       "      <th>valor</th>\n",
       "    </tr>\n",
       "    <tr>\n",
       "      <th>cobranca_id</th>\n",
       "      <th></th>\n",
       "      <th></th>\n",
       "      <th></th>\n",
       "      <th></th>\n",
       "    </tr>\n",
       "  </thead>\n",
       "  <tbody>\n",
       "    <tr>\n",
       "      <th>1</th>\n",
       "      <td>14</td>\n",
       "      <td>46</td>\n",
       "      <td>2023-01-01</td>\n",
       "      <td>762.83</td>\n",
       "    </tr>\n",
       "    <tr>\n",
       "      <th>2</th>\n",
       "      <td>41</td>\n",
       "      <td>45</td>\n",
       "      <td>2023-01-01</td>\n",
       "      <td>1084.60</td>\n",
       "    </tr>\n",
       "    <tr>\n",
       "      <th>3</th>\n",
       "      <td>24</td>\n",
       "      <td>33</td>\n",
       "      <td>2023-01-02</td>\n",
       "      <td>1106.73</td>\n",
       "    </tr>\n",
       "    <tr>\n",
       "      <th>4</th>\n",
       "      <td>26</td>\n",
       "      <td>2</td>\n",
       "      <td>2023-01-03</td>\n",
       "      <td>1152.65</td>\n",
       "    </tr>\n",
       "    <tr>\n",
       "      <th>5</th>\n",
       "      <td>7</td>\n",
       "      <td>14</td>\n",
       "      <td>2023-01-03</td>\n",
       "      <td>1071.02</td>\n",
       "    </tr>\n",
       "  </tbody>\n",
       "</table>\n",
       "</div>"
      ],
      "text/plain": [
       "             cobrador_id  cobrado_id       data    valor\n",
       "cobranca_id                                             \n",
       "1                     14          46 2023-01-01   762.83\n",
       "2                     41          45 2023-01-01  1084.60\n",
       "3                     24          33 2023-01-02  1106.73\n",
       "4                     26           2 2023-01-03  1152.65\n",
       "5                      7          14 2023-01-03  1071.02"
      ]
     },
     "execution_count": 9,
     "metadata": {},
     "output_type": "execute_result"
    }
   ],
   "source": [
    "df.head()"
   ]
  },
  {
   "cell_type": "code",
   "execution_count": 10,
   "id": "26a14bd9-fdfb-4feb-bc9d-b57c6d4a8ec1",
   "metadata": {},
   "outputs": [
    {
     "data": {
      "text/plain": [
       "cobrador_id             int64\n",
       "cobrado_id              int64\n",
       "data           datetime64[ns]\n",
       "valor                 float64\n",
       "dtype: object"
      ]
     },
     "execution_count": 10,
     "metadata": {},
     "output_type": "execute_result"
    }
   ],
   "source": [
    "df.dtypes"
   ]
  },
  {
   "cell_type": "code",
   "execution_count": 11,
   "id": "dd596e6b-8b38-40ee-81ee-91f69e953754",
   "metadata": {},
   "outputs": [
    {
     "data": {
      "text/plain": [
       "<Axes: >"
      ]
     },
     "execution_count": 11,
     "metadata": {},
     "output_type": "execute_result"
    },
    {
     "data": {
      "image/png": "[encoded data removed]",
      "text/plain": [
       "<Figure size 640x480 with 1 Axes>"
      ]
     },
     "metadata": {},
     "output_type": "display_data"
    }
   ],
   "source": [
    "df.valor.hist()"
   ]
  },
  {
   "cell_type": "code",
   "execution_count": 14,
   "id": "dff12e97-f7b8-4ea2-a3cc-f05c7d20d69a",
   "metadata": {},
   "outputs": [
    {
     "data": {
      "text/plain": [
       "cobrado_id\n",
       "48    7\n",
       "18    6\n",
       "37    5\n",
       "36    5\n",
       "8     5\n",
       "31    4\n",
       "9     3\n",
       "22    3\n",
       "17    3\n",
       "44    3\n",
       "46    3\n",
       "15    3\n",
       "2     3\n",
       "19    3\n",
       "10    2\n",
       "12    2\n",
       "40    2\n",
       "1     2\n",
       "32    2\n",
       "34    2\n",
       "45    2\n",
       "27    2\n",
       "41    2\n",
       "13    2\n",
       "28    2\n",
       "35    2\n",
       "33    2\n",
       "5     2\n",
       "39    1\n",
       "21    1\n",
       "23    1\n",
       "16    1\n",
       "24    1\n",
       "6     1\n",
       "3     1\n",
       "42    1\n",
       "43    1\n",
       "4     1\n",
       "49    1\n",
       "25    1\n",
       "50    1\n",
       "29    1\n",
       "14    1\n",
       "38    1\n",
       "Name: count, dtype: int64"
      ]
     },
     "execution_count": 14,
     "metadata": {},
     "output_type": "execute_result"
    }
   ],
   "source": [
    "df.cobrado_id.value_counts()"
   ]
  },
  {
   "cell_type": "code",
   "execution_count": 15,
   "id": "c8069b8e-8436-456d-9dc6-ba66e0a52d66",
   "metadata": {},
   "outputs": [
    {
     "data": {
      "text/plain": [
       "cobrador_id\n",
       "40    6\n",
       "24    5\n",
       "9     5\n",
       "36    4\n",
       "41    4\n",
       "7     4\n",
       "31    4\n",
       "11    3\n",
       "38    3\n",
       "17    3\n",
       "37    3\n",
       "14    3\n",
       "19    3\n",
       "43    3\n",
       "48    3\n",
       "2     2\n",
       "22    2\n",
       "45    2\n",
       "28    2\n",
       "16    2\n",
       "35    2\n",
       "50    2\n",
       "46    2\n",
       "15    2\n",
       "8     2\n",
       "33    2\n",
       "26    2\n",
       "39    2\n",
       "12    2\n",
       "30    2\n",
       "47    2\n",
       "13    2\n",
       "4     1\n",
       "25    1\n",
       "18    1\n",
       "27    1\n",
       "21    1\n",
       "32    1\n",
       "49    1\n",
       "20    1\n",
       "44    1\n",
       "23    1\n",
       "Name: count, dtype: int64"
      ]
     },
     "execution_count": 15,
     "metadata": {},
     "output_type": "execute_result"
    }
   ],
   "source": [
    "df.cobrador_id.value_counts()"
   ]
  }
 ],
 "metadata": {
  "kernelspec": {
   "display_name": "Python 3 (ipykernel)",
   "language": "python",
   "name": "python3"
  },
  "language_info": {
   "codemirror_mode": {
    "name": "ipython",
    "version": 3
   },
   "file_extension": ".py",
   "mimetype": "text/x-python",
   "name": "python",
   "nbconvert_exporter": "python",
   "pygments_lexer": "ipython3",
   "version": "3.11.7"
  }
 },
 "nbformat": 4,
 "nbformat_minor": 5
}
