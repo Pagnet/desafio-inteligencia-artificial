{
 "cells": [
  {
   "cell_type": "markdown",
   "id": "585e27dc-bf5c-4443-ae7d-e699d6689ff9",
   "metadata": {},
   "source": [
    "# Importação dos dados"
   ]
  },
  {
   "cell_type": "code",
   "execution_count": 27,
   "id": "659d8385-27e4-4006-9159-80f87af4190f",
   "metadata": {},
   "outputs": [],
   "source": [
    "import pandas as pd"
   ]
  },
  {
   "cell_type": "markdown",
   "id": "fcad5077-a231-4a4a-b7ec-51c1cb364cff",
   "metadata": {},
   "source": [
    "# Exploração/pré-processamento"
   ]
  },
  {
   "cell_type": "code",
   "execution_count": 28,
   "id": "bdb740db-ff31-4781-97e4-e2726907c40e",
   "metadata": {},
   "outputs": [],
   "source": [
    "df = pd.read_csv('cobrancas_ia.csv', delimiter= ';', index_col=[0])"
   ]
  },
  {
   "cell_type": "code",
   "execution_count": 29,
   "id": "55268e8e-6cfa-4096-b1ca-8cf7a230897a",
   "metadata": {},
   "outputs": [
    {
     "data": {
      "text/html": [
       "<div>\n",
       "<style scoped>\n",
       "    .dataframe tbody tr th:only-of-type {\n",
       "        vertical-align: middle;\n",
       "    }\n",
       "\n",
       "    .dataframe tbody tr th {\n",
       "        vertical-align: top;\n",
       "    }\n",
       "\n",
       "    .dataframe thead th {\n",
       "        text-align: right;\n",
       "    }\n",
       "</style>\n",
       "<table border=\"1\" class=\"dataframe\">\n",
       "  <thead>\n",
       "    <tr style=\"text-align: right;\">\n",
       "      <th></th>\n",
       "      <th>cobrador_id</th>\n",
       "      <th>cobrado_id</th>\n",
       "      <th>data</th>\n",
       "      <th>valor</th>\n",
       "    </tr>\n",
       "    <tr>\n",
       "      <th>cobranca_id</th>\n",
       "      <th></th>\n",
       "      <th></th>\n",
       "      <th></th>\n",
       "      <th></th>\n",
       "    </tr>\n",
       "  </thead>\n",
       "  <tbody>\n",
       "    <tr>\n",
       "      <th>1</th>\n",
       "      <td>14</td>\n",
       "      <td>46</td>\n",
       "      <td>01/01/2023</td>\n",
       "      <td>R$ 762,83</td>\n",
       "    </tr>\n",
       "    <tr>\n",
       "      <th>2</th>\n",
       "      <td>41</td>\n",
       "      <td>45</td>\n",
       "      <td>01/01/2023</td>\n",
       "      <td>R$ 1.084,60</td>\n",
       "    </tr>\n",
       "    <tr>\n",
       "      <th>3</th>\n",
       "      <td>24</td>\n",
       "      <td>33</td>\n",
       "      <td>02/01/2023</td>\n",
       "      <td>R$ 1.106,73</td>\n",
       "    </tr>\n",
       "    <tr>\n",
       "      <th>4</th>\n",
       "      <td>26</td>\n",
       "      <td>2</td>\n",
       "      <td>03/01/2023</td>\n",
       "      <td>R$ 1.152,65</td>\n",
       "    </tr>\n",
       "    <tr>\n",
       "      <th>5</th>\n",
       "      <td>7</td>\n",
       "      <td>14</td>\n",
       "      <td>03/01/2023</td>\n",
       "      <td>R$ 1.071,02</td>\n",
       "    </tr>\n",
       "  </tbody>\n",
       "</table>\n",
       "</div>"
      ],
      "text/plain": [
       "             cobrador_id  cobrado_id        data         valor \n",
       "cobranca_id                                                    \n",
       "1                     14          46  01/01/2023     R$ 762,83 \n",
       "2                     41          45  01/01/2023   R$ 1.084,60 \n",
       "3                     24          33  02/01/2023   R$ 1.106,73 \n",
       "4                     26           2  03/01/2023   R$ 1.152,65 \n",
       "5                      7          14  03/01/2023   R$ 1.071,02 "
      ]
     },
     "execution_count": 29,
     "metadata": {},
     "output_type": "execute_result"
    }
   ],
   "source": [
    "df.head()"
   ]
  },
  {
   "cell_type": "code",
   "execution_count": 30,
   "id": "3d1955e8-76a1-4c0a-bc19-1a960998c10b",
   "metadata": {},
   "outputs": [
    {
     "data": {
      "text/html": [
       "<div>\n",
       "<style scoped>\n",
       "    .dataframe tbody tr th:only-of-type {\n",
       "        vertical-align: middle;\n",
       "    }\n",
       "\n",
       "    .dataframe tbody tr th {\n",
       "        vertical-align: top;\n",
       "    }\n",
       "\n",
       "    .dataframe thead th {\n",
       "        text-align: right;\n",
       "    }\n",
       "</style>\n",
       "<table border=\"1\" class=\"dataframe\">\n",
       "  <thead>\n",
       "    <tr style=\"text-align: right;\">\n",
       "      <th></th>\n",
       "      <th>cobrador_id</th>\n",
       "      <th>cobrado_id</th>\n",
       "      <th>data</th>\n",
       "      <th>valor</th>\n",
       "    </tr>\n",
       "    <tr>\n",
       "      <th>cobranca_id</th>\n",
       "      <th></th>\n",
       "      <th></th>\n",
       "      <th></th>\n",
       "      <th></th>\n",
       "    </tr>\n",
       "  </thead>\n",
       "  <tbody>\n",
       "    <tr>\n",
       "      <th>96</th>\n",
       "      <td>13</td>\n",
       "      <td>18</td>\n",
       "      <td>15/02/2023</td>\n",
       "      <td>R$ 895,12</td>\n",
       "    </tr>\n",
       "    <tr>\n",
       "      <th>97</th>\n",
       "      <td>24</td>\n",
       "      <td>48</td>\n",
       "      <td>16/02/2023</td>\n",
       "      <td>R$ 1.444,40</td>\n",
       "    </tr>\n",
       "    <tr>\n",
       "      <th>98</th>\n",
       "      <td>35</td>\n",
       "      <td>36</td>\n",
       "      <td>17/02/2023</td>\n",
       "      <td>R$ 1.276,46</td>\n",
       "    </tr>\n",
       "    <tr>\n",
       "      <th>99</th>\n",
       "      <td>9</td>\n",
       "      <td>41</td>\n",
       "      <td>17/02/2023</td>\n",
       "      <td>R$ 1.157,45</td>\n",
       "    </tr>\n",
       "    <tr>\n",
       "      <th>100</th>\n",
       "      <td>13</td>\n",
       "      <td>18</td>\n",
       "      <td>18/02/2023</td>\n",
       "      <td>R$ 758,43</td>\n",
       "    </tr>\n",
       "  </tbody>\n",
       "</table>\n",
       "</div>"
      ],
      "text/plain": [
       "             cobrador_id  cobrado_id        data         valor \n",
       "cobranca_id                                                    \n",
       "96                    13          18  15/02/2023     R$ 895,12 \n",
       "97                    24          48  16/02/2023   R$ 1.444,40 \n",
       "98                    35          36  17/02/2023   R$ 1.276,46 \n",
       "99                     9          41  17/02/2023   R$ 1.157,45 \n",
       "100                   13          18  18/02/2023     R$ 758,43 "
      ]
     },
     "execution_count": 30,
     "metadata": {},
     "output_type": "execute_result"
    }
   ],
   "source": [
    "df.tail()"
   ]
  },
  {
   "cell_type": "code",
   "execution_count": 31,
   "id": "94ed74f5-aca5-4b5c-8013-a44868968057",
   "metadata": {},
   "outputs": [
    {
     "data": {
      "text/plain": [
       "cobrador_id     int64\n",
       "cobrado_id      int64\n",
       "data           object\n",
       " valor         object\n",
       "dtype: object"
      ]
     },
     "execution_count": 31,
     "metadata": {},
     "output_type": "execute_result"
    }
   ],
   "source": [
    "df.dtypes"
   ]
  },
  {
   "cell_type": "code",
   "execution_count": 32,
   "id": "9ab2460f-c22b-420f-ac02-907b9949f025",
   "metadata": {},
   "outputs": [],
   "source": [
    "df.columns = [c.replace(' ', '') for c in df.columns]"
   ]
  },
  {
   "cell_type": "code",
   "execution_count": 33,
   "id": "526ca5dd-7227-41e5-bb70-218d0e209a5f",
   "metadata": {},
   "outputs": [],
   "source": [
    "df['data'] = pd.to_datetime(df['data'], dayfirst=True)"
   ]
  },
  {
   "cell_type": "code",
   "execution_count": 25,
   "id": "a5fa8f1d-f5f1-4d2f-80d5-10838fa8de01",
   "metadata": {},
   "outputs": [],
   "source": [
    "df.valor = df.valor.str.replace('R$','') # removendo unidade monetária\n",
    "df.valor = df.valor.str.replace(' ','')\n",
    "df.valor = df.valor.str.replace(',','') # trocando vírgula para ponto como separador de decimal\n",
    "df.valor = df.valor.str.replace('.','')\n",
    "\n",
    "df.valor = pd.to_numeric(df.valor)"
   ]
  },
  {
   "cell_type": "code",
   "execution_count": 26,
   "id": "5849e80b-4e41-4e0c-9099-4b0c2ab83c57",
   "metadata": {},
   "outputs": [
    {
     "data": {
      "text/html": [
       "<div>\n",
       "<style scoped>\n",
       "    .dataframe tbody tr th:only-of-type {\n",
       "        vertical-align: middle;\n",
       "    }\n",
       "\n",
       "    .dataframe tbody tr th {\n",
       "        vertical-align: top;\n",
       "    }\n",
       "\n",
       "    .dataframe thead th {\n",
       "        text-align: right;\n",
       "    }\n",
       "</style>\n",
       "<table border=\"1\" class=\"dataframe\">\n",
       "  <thead>\n",
       "    <tr style=\"text-align: right;\">\n",
       "      <th></th>\n",
       "      <th>cobrador_id</th>\n",
       "      <th>cobrado_id</th>\n",
       "      <th>data</th>\n",
       "      <th>valor</th>\n",
       "    </tr>\n",
       "    <tr>\n",
       "      <th>cobranca_id</th>\n",
       "      <th></th>\n",
       "      <th></th>\n",
       "      <th></th>\n",
       "      <th></th>\n",
       "    </tr>\n",
       "  </thead>\n",
       "  <tbody>\n",
       "    <tr>\n",
       "      <th>1</th>\n",
       "      <td>14</td>\n",
       "      <td>46</td>\n",
       "      <td>2023-01-01</td>\n",
       "      <td>76283</td>\n",
       "    </tr>\n",
       "    <tr>\n",
       "      <th>2</th>\n",
       "      <td>41</td>\n",
       "      <td>45</td>\n",
       "      <td>2023-01-01</td>\n",
       "      <td>108460</td>\n",
       "    </tr>\n",
       "    <tr>\n",
       "      <th>3</th>\n",
       "      <td>24</td>\n",
       "      <td>33</td>\n",
       "      <td>2023-01-02</td>\n",
       "      <td>110673</td>\n",
       "    </tr>\n",
       "    <tr>\n",
       "      <th>4</th>\n",
       "      <td>26</td>\n",
       "      <td>2</td>\n",
       "      <td>2023-01-03</td>\n",
       "      <td>115265</td>\n",
       "    </tr>\n",
       "    <tr>\n",
       "      <th>5</th>\n",
       "      <td>7</td>\n",
       "      <td>14</td>\n",
       "      <td>2023-01-03</td>\n",
       "      <td>107102</td>\n",
       "    </tr>\n",
       "  </tbody>\n",
       "</table>\n",
       "</div>"
      ],
      "text/plain": [
       "             cobrador_id  cobrado_id       data   valor\n",
       "cobranca_id                                            \n",
       "1                     14          46 2023-01-01   76283\n",
       "2                     41          45 2023-01-01  108460\n",
       "3                     24          33 2023-01-02  110673\n",
       "4                     26           2 2023-01-03  115265\n",
       "5                      7          14 2023-01-03  107102"
      ]
     },
     "execution_count": 26,
     "metadata": {},
     "output_type": "execute_result"
    }
   ],
   "source": [
    "df.head()"
   ]
  }
 ],
 "metadata": {
  "kernelspec": {
   "display_name": "Python 3 (ipykernel)",
   "language": "python",
   "name": "python3"
  },
  "language_info": {
   "codemirror_mode": {
    "name": "ipython",
    "version": 3
   },
   "file_extension": ".py",
   "mimetype": "text/x-python",
   "name": "python",
   "nbconvert_exporter": "python",
   "pygments_lexer": "ipython3",
   "version": "3.11.7"
  }
 },
 "nbformat": 4,
 "nbformat_minor": 5
}
