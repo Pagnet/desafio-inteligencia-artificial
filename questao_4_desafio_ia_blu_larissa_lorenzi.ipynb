{
 "cells": [
  {
   "cell_type": "code",
   "execution_count": 1,
   "metadata": {},
   "outputs": [],
   "source": [
    "import math\n",
    "import pandas as pd"
   ]
  },
  {
   "cell_type": "code",
   "execution_count": 2,
   "metadata": {},
   "outputs": [],
   "source": [
    "def e (x, n):\n",
    "    e_apr = 0\n",
    "    for i in range(n):\n",
    "        e_apr += x**i/math.factorial(i)\n",
    "        e_exp = math.exp(x)\n",
    "        e_erro = abs(e_apr - e_exp)\n",
    "    \n",
    "    return n, e_apr, e_exp, e_erro"
   ]
  },
  {
   "cell_type": "code",
   "execution_count": 3,
   "metadata": {},
   "outputs": [
    {
     "name": "stdout",
     "output_type": "stream",
     "text": [
      "   termos      aprox       exp          erro\n",
      "0       5  34.333333  54.59815  2.026482e+01\n",
      "1      15  54.597062  54.59815  1.088235e-03\n",
      "2      20  54.598149  54.59815  5.569296e-07\n",
      "3      30  54.598150  54.59815  2.131628e-14\n"
     ]
    }
   ],
   "source": [
    "saida = e(4, 5), e(4, 15), e(4, 20), e(4, 30)\n",
    "columns = ['termos', 'aprox', 'exp', 'erro']\n",
    "df = pd.DataFrame(saida, columns = columns)\n",
    "\n",
    "print(df)"
   ]
  },
  {
   "cell_type": "code",
   "execution_count": null,
   "metadata": {},
   "outputs": [],
   "source": []
  },
  {
   "cell_type": "code",
   "execution_count": null,
   "metadata": {},
   "outputs": [],
   "source": []
  },
  {
   "cell_type": "code",
   "execution_count": null,
   "metadata": {},
   "outputs": [],
   "source": []
  },
  {
   "cell_type": "code",
   "execution_count": null,
   "metadata": {},
   "outputs": [],
   "source": []
  }
 ],
 "metadata": {
  "kernelspec": {
   "display_name": "Python 3",
   "language": "python",
   "name": "python3"
  },
  "language_info": {
   "codemirror_mode": {
    "name": "ipython",
    "version": 3
   },
   "file_extension": ".py",
   "mimetype": "text/x-python",
   "name": "python",
   "nbconvert_exporter": "python",
   "pygments_lexer": "ipython3",
   "version": "3.7.4"
  }
 },
 "nbformat": 4,
 "nbformat_minor": 2
}
