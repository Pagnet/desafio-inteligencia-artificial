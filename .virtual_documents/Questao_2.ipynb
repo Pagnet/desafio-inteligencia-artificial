


import pandas as pd





df = pd.read_csv('cobrancas_ia.csv', delimiter= ';', index_col=[0])


df.head()


df.tail()


df.dtypes


df.columns = [c.replace(' ', '') for c in df.columns]


df['data'] = pd.to_datetime(df['data'], dayfirst=True)


df.valor = df.valor.str.replace('R$','') # removendo unidade monetária
df.valor = df.valor.str.replace(' ','')
df.valor = df.valor.str.replace(',','') # trocando vírgula para ponto como separador de decimal
df.valor = df.valor.str.replace('.','')

df.valor = pd.to_numeric(df.valor)
df.valor = df.valor/100


df.head()


df.dtypes


df.valor.hist()


df.cobrado_id.value_counts()


df.cobrador_id.value_counts()
