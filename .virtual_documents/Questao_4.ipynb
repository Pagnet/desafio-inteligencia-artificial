from funcs import fact, expo
import numpy as np





e4 = np.exp(4)


# Erro Absoluto

for i in [5,15,20,30]:
    print(f'O erro absoluto para N = {i} é {np.abs(expo(4,i)-e4)}')


# Erro Relativo

for i in [5,15,20,30]:
    print(f'O erro absoluto para N = {i} é {np.abs(expo(4,i)-e4)/e4}')
