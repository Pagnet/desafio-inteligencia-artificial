{
 "cells": [
  {
   "cell_type": "code",
   "execution_count": 1,
   "id": "d64b46fe-f833-400c-b9a9-67e79f816dad",
   "metadata": {},
   "outputs": [],
   "source": [
    "from funcs import fact, expo\n",
    "import numpy as np"
   ]
  },
  {
   "cell_type": "code",
   "execution_count": 2,
   "id": "e11f23e0-9b9c-4ede-8a5f-32f19fcdace2",
   "metadata": {},
   "outputs": [
    {
     "ename": "TypeError",
     "evalue": "O argumento deve ser um inteiro",
     "output_type": "error",
     "traceback": [
      "\u001b[1;31m---------------------------------------------------------------------------\u001b[0m",
      "\u001b[1;31mTypeError\u001b[0m                                 Traceback (most recent call last)",
      "Cell \u001b[1;32mIn[2], line 1\u001b[0m\n\u001b[1;32m----> 1\u001b[0m fact(\u001b[38;5;241m-\u001b[39m\u001b[38;5;241m1\u001b[39m)\n",
      "File \u001b[1;32m~\\Desktop\\portfolio_projetos\\desafio-inteligencia-artificial\\funcs.py:3\u001b[0m, in \u001b[0;36mfact\u001b[1;34m(N)\u001b[0m\n\u001b[0;32m      1\u001b[0m \u001b[38;5;28;01mdef\u001b[39;00m \u001b[38;5;21mfact\u001b[39m(N):\n\u001b[0;32m      2\u001b[0m     \u001b[38;5;28;01mif\u001b[39;00m \u001b[38;5;28misinstance\u001b[39m(N, \u001b[38;5;28mint\u001b[39m):\n\u001b[1;32m----> 3\u001b[0m         \u001b[38;5;28;01mraise\u001b[39;00m \u001b[38;5;167;01mTypeError\u001b[39;00m(\u001b[38;5;124m\"\u001b[39m\u001b[38;5;124mO argumento deve ser um inteiro\u001b[39m\u001b[38;5;124m\"\u001b[39m)\n\u001b[0;32m      4\u001b[0m     \u001b[38;5;28;01mif\u001b[39;00m N \u001b[38;5;241m<\u001b[39m \u001b[38;5;241m0\u001b[39m:\n\u001b[0;32m      5\u001b[0m         \u001b[38;5;28;01mraise\u001b[39;00m \u001b[38;5;167;01mValueError\u001b[39;00m(\u001b[38;5;124m\"\u001b[39m\u001b[38;5;124mO argumento deve ser um inteiro não-negativo\u001b[39m\u001b[38;5;124m\"\u001b[39m)    \n",
      "\u001b[1;31mTypeError\u001b[0m: O argumento deve ser um inteiro"
     ]
    }
   ],
   "source": [
    "fact(-1)"
   ]
  },
  {
   "cell_type": "code",
   "execution_count": 27,
   "id": "4da0afcc-b882-470b-9058-26f88eee8e99",
   "metadata": {},
   "outputs": [
    {
     "data": {
      "text/plain": [
       "54.598150033144265"
      ]
     },
     "execution_count": 27,
     "metadata": {},
     "output_type": "execute_result"
    }
   ],
   "source": [
    "expo(4,30)"
   ]
  },
  {
   "cell_type": "code",
   "execution_count": 11,
   "id": "40fef03d-ab61-4fdd-b180-02b6c9baf10c",
   "metadata": {},
   "outputs": [],
   "source": [
    "e4 = np.exp(4)"
   ]
  },
  {
   "cell_type": "code",
   "execution_count": 21,
   "id": "0427a274-b444-43c3-b1e2-90de83576d9a",
   "metadata": {},
   "outputs": [
    {
     "name": "stdout",
     "output_type": "stream",
     "text": [
      "O erro absoluto para N = 5 é 11.731483366477576\n",
      "O erro absoluto para N = 15 é 0.00026712749413349\n",
      "O erro absoluto para N = 20 é 1.0499542213437962e-07\n",
      "O erro absoluto para N = 30 é 2.842170943040401e-14\n"
     ]
    }
   ],
   "source": [
    "# Erro Absoluto\n",
    "\n",
    "for i in [5,15,20,30]:\n",
    "    print(f'O erro absoluto para N = {i} é {np.abs(expo(4,i)-e4)}')"
   ]
  },
  {
   "cell_type": "code",
   "execution_count": 22,
   "id": "e502d4a0-24cd-4807-ae92-1eed8f2e001c",
   "metadata": {},
   "outputs": [
    {
     "name": "stdout",
     "output_type": "stream",
     "text": [
      "O erro absoluto para N = 5 é 0.2148696129695949\n",
      "O erro absoluto para N = 15 é 4.892610719801462e-06\n",
      "O erro absoluto para N = 20 é 1.923058236783505e-09\n",
      "O erro absoluto para N = 30 é 5.205617665278107e-16\n"
     ]
    }
   ],
   "source": [
    "# Erro Relativo\n",
    "\n",
    "for i in [5,15,20,30]:\n",
    "    print(f'O erro absoluto para N = {i} é {np.abs(expo(4,i)-e4)/e4}')"
   ]
  }
 ],
 "metadata": {
  "kernelspec": {
   "display_name": "Python 3 (ipykernel)",
   "language": "python",
   "name": "python3"
  },
  "language_info": {
   "codemirror_mode": {
    "name": "ipython",
    "version": 3
   },
   "file_extension": ".py",
   "mimetype": "text/x-python",
   "name": "python",
   "nbconvert_exporter": "python",
   "pygments_lexer": "ipython3",
   "version": "3.11.7"
  }
 },
 "nbformat": 4,
 "nbformat_minor": 5
}
