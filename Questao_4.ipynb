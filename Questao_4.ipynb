{
 "cells": [
  {
   "cell_type": "code",
   "execution_count": 1,
   "id": "d64b46fe-f833-400c-b9a9-67e79f816dad",
   "metadata": {},
   "outputs": [],
   "source": [
    "from funcs import fact, expo\n",
    "import numpy as np"
   ]
  },
  {
   "attachments": {},
   "cell_type": "markdown",
   "id": "9f18b07f-11c0-45cd-b495-8d50f009385f",
   "metadata": {},
   "source": [
    "As funções no pacote funcs foram criadas recursivamente. Sua complexidade de tempo é O(N). Só utilizei o pytest para o melhoramento da função fatorial.\n",
    "\n"
   ]
  },
  {
   "cell_type": "code",
   "execution_count": 2,
   "id": "40fef03d-ab61-4fdd-b180-02b6c9baf10c",
   "metadata": {},
   "outputs": [],
   "source": [
    "e4 = np.exp(4)"
   ]
  },
  {
   "cell_type": "code",
   "execution_count": 3,
   "id": "0427a274-b444-43c3-b1e2-90de83576d9a",
   "metadata": {},
   "outputs": [
    {
     "name": "stdout",
     "output_type": "stream",
     "text": [
      "O erro absoluto para N = 5 é 11.731483366477576\n",
      "O erro absoluto para N = 15 é 0.00026712749413349\n",
      "O erro absoluto para N = 20 é 1.0499542213437962e-07\n",
      "O erro absoluto para N = 30 é 2.842170943040401e-14\n"
     ]
    }
   ],
   "source": [
    "# Erro Absoluto\n",
    "\n",
    "for i in [5,15,20,30]:\n",
    "    print(f'O erro absoluto para N = {i} é {np.abs(expo(4,i)-e4)}')"
   ]
  },
  {
   "cell_type": "code",
   "execution_count": 4,
   "id": "e502d4a0-24cd-4807-ae92-1eed8f2e001c",
   "metadata": {},
   "outputs": [
    {
     "name": "stdout",
     "output_type": "stream",
     "text": [
      "O erro absoluto para N = 5 é 0.2148696129695949\n",
      "O erro absoluto para N = 15 é 4.892610719801462e-06\n",
      "O erro absoluto para N = 20 é 1.923058236783505e-09\n",
      "O erro absoluto para N = 30 é 5.205617665278107e-16\n"
     ]
    }
   ],
   "source": [
    "# Erro Relativo\n",
    "\n",
    "for i in [5,15,20,30]:\n",
    "    print(f'O erro absoluto para N = {i} é {np.abs(expo(4,i)-e4)/e4}')"
   ]
  }
 ],
 "metadata": {
  "kernelspec": {
   "display_name": "Python 3 (ipykernel)",
   "language": "python",
   "name": "python3"
  },
  "language_info": {
   "codemirror_mode": {
    "name": "ipython",
    "version": 3
   },
   "file_extension": ".py",
   "mimetype": "text/x-python",
   "name": "python",
   "nbconvert_exporter": "python",
   "pygments_lexer": "ipython3",
   "version": "3.11.7"
  }
 },
 "nbformat": 4,
 "nbformat_minor": 5
}
