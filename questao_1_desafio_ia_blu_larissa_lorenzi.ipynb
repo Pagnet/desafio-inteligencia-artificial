{
 "cells": [
  {
   "cell_type": "markdown",
   "metadata": {},
   "source": [
    "# Desafio IA - Questão 1 \n",
    "\n",
    "***Developed by***: Larissa Lorenzi\n",
    "\n",
    "***Date:*** Fev,/2023"
   ]
  },
  {
   "cell_type": "markdown",
   "metadata": {},
   "source": [
    "# Imports / bibliotecas"
   ]
  },
  {
   "cell_type": "code",
   "execution_count": 1,
   "metadata": {},
   "outputs": [
    {
     "data": {
      "text/plain": [
       "'C:\\\\Users\\\\loren'"
      ]
     },
     "execution_count": 1,
     "metadata": {},
     "output_type": "execute_result"
    }
   ],
   "source": [
    "import matplotlib.pyplot as plt\n",
    "import seaborn as sns\n",
    "import pandas as pd\n",
    "import numpy as np\n",
    "import os\n",
    "\n",
    "%matplotlib inline\n",
    "%load_ext autoreload\n",
    "%autoreload 2\n",
    "\n",
    "plt.rcParams['figure.figsize'] = (6.0, 5.0)\n",
    "\n",
    "#setup the rows and cols dimension\n",
    "pd.set_option('max_rows', 200)\n",
    "pd.set_option('max_columns', 1000)\n",
    "\n",
    "#to change the scientific notation precision\n",
    "pd.set_option('display.float_format', lambda x: '%.2f' % x)\n",
    "\n",
    "import warnings\n",
    "warnings.filterwarnings('ignore')\n",
    "\n",
    "path = os.environ['USERPROFILE']\n",
    "path"
   ]
  },
  {
   "cell_type": "code",
   "execution_count": 2,
   "metadata": {},
   "outputs": [
    {
     "data": {
      "text/html": [
       "<div>\n",
       "<style scoped>\n",
       "    .dataframe tbody tr th:only-of-type {\n",
       "        vertical-align: middle;\n",
       "    }\n",
       "\n",
       "    .dataframe tbody tr th {\n",
       "        vertical-align: top;\n",
       "    }\n",
       "\n",
       "    .dataframe thead th {\n",
       "        text-align: right;\n",
       "    }\n",
       "</style>\n",
       "<table border=\"1\" class=\"dataframe\">\n",
       "  <thead>\n",
       "    <tr style=\"text-align: right;\">\n",
       "      <th></th>\n",
       "      <th>venda_id</th>\n",
       "      <th>cliente_id</th>\n",
       "      <th>nome_cliente</th>\n",
       "      <th>data_hora_venda</th>\n",
       "      <th>valor_venda</th>\n",
       "      <th>Unnamed: 5</th>\n",
       "    </tr>\n",
       "  </thead>\n",
       "  <tbody>\n",
       "    <tr>\n",
       "      <th>0</th>\n",
       "      <td>1</td>\n",
       "      <td>17012022</td>\n",
       "      <td>IA Blu Ltda</td>\n",
       "      <td>17/01/2018 09:00</td>\n",
       "      <td>R$ 171,04</td>\n",
       "      <td>NaN</td>\n",
       "    </tr>\n",
       "    <tr>\n",
       "      <th>1</th>\n",
       "      <td>2</td>\n",
       "      <td>17012022</td>\n",
       "      <td>IA Blu Ltda</td>\n",
       "      <td>22/01/2018 12:52</td>\n",
       "      <td>R$ 80,57</td>\n",
       "      <td>NaN</td>\n",
       "    </tr>\n",
       "    <tr>\n",
       "      <th>2</th>\n",
       "      <td>3</td>\n",
       "      <td>17012022</td>\n",
       "      <td>IA Blu Ltda</td>\n",
       "      <td>27/01/2018 18:33</td>\n",
       "      <td>R$ 83,79</td>\n",
       "      <td>NaN</td>\n",
       "    </tr>\n",
       "    <tr>\n",
       "      <th>3</th>\n",
       "      <td>4</td>\n",
       "      <td>17012022</td>\n",
       "      <td>IA Blu Ltda</td>\n",
       "      <td>01/02/2018 17:27</td>\n",
       "      <td>R$ 77,94</td>\n",
       "      <td>NaN</td>\n",
       "    </tr>\n",
       "    <tr>\n",
       "      <th>4</th>\n",
       "      <td>5</td>\n",
       "      <td>17012022</td>\n",
       "      <td>IA Blu Ltda</td>\n",
       "      <td>09/02/2018 08:57</td>\n",
       "      <td>R$ 147,15</td>\n",
       "      <td>NaN</td>\n",
       "    </tr>\n",
       "  </tbody>\n",
       "</table>\n",
       "</div>"
      ],
      "text/plain": [
       "   venda_id  cliente_id nome_cliente   data_hora_venda  valor_venda   \\\n",
       "0         1    17012022  IA Blu Ltda  17/01/2018 09:00    R$ 171,04    \n",
       "1         2    17012022  IA Blu Ltda  22/01/2018 12:52     R$ 80,57    \n",
       "2         3    17012022  IA Blu Ltda  27/01/2018 18:33     R$ 83,79    \n",
       "3         4    17012022  IA Blu Ltda  01/02/2018 17:27     R$ 77,94    \n",
       "4         5    17012022  IA Blu Ltda  09/02/2018 08:57    R$ 147,15    \n",
       "\n",
       "   Unnamed: 5  \n",
       "0         NaN  \n",
       "1         NaN  \n",
       "2         NaN  \n",
       "3         NaN  \n",
       "4         NaN  "
      ]
     },
     "execution_count": 2,
     "metadata": {},
     "output_type": "execute_result"
    }
   ],
   "source": [
    "#buscar o arquivo da tabela e visualizar a estrutura da tabela\n",
    "\n",
    "df = pd.read_csv(path + '\\Desktop\\DESAFIO_IA\\ia_vende_normalmente.csv', sep=';')\n",
    "df.head()"
   ]
  },
  {
   "cell_type": "markdown",
   "metadata": {},
   "source": [
    "**Função para melhorar a acurácia dos gráficos**"
   ]
  },
  {
   "cell_type": "markdown",
   "metadata": {},
   "source": [
    "<h3>Integridade dos dados</h3>"
   ]
  },
  {
   "cell_type": "code",
   "execution_count": 3,
   "metadata": {},
   "outputs": [
    {
     "data": {
      "text/plain": [
       "(293, 6)"
      ]
     },
     "execution_count": 3,
     "metadata": {},
     "output_type": "execute_result"
    }
   ],
   "source": [
    "df.shape"
   ]
  },
  {
   "cell_type": "code",
   "execution_count": 4,
   "metadata": {},
   "outputs": [
    {
     "name": "stdout",
     "output_type": "stream",
     "text": [
      "<class 'pandas.core.frame.DataFrame'>\n",
      "RangeIndex: 293 entries, 0 to 292\n",
      "Data columns (total 6 columns):\n",
      " #   Column           Non-Null Count  Dtype  \n",
      "---  ------           --------------  -----  \n",
      " 0   venda_id         293 non-null    int64  \n",
      " 1   cliente_id       293 non-null    int64  \n",
      " 2   nome_cliente     293 non-null    object \n",
      " 3   data_hora_venda  293 non-null    object \n",
      " 4    valor_venda     293 non-null    object \n",
      " 5   Unnamed: 5       0 non-null      float64\n",
      "dtypes: float64(1), int64(2), object(3)\n",
      "memory usage: 13.9+ KB\n"
     ]
    }
   ],
   "source": [
    "df.info()\n",
    "\n",
    "#tem uma coluna 'Unnamed' que só tem valores nulos e pode ser eliminada\n",
    "#o nome da coluna 'valor_venda' tem um espaço a mais no início e deve ser ajustada para não atrapalhar a exploração\n",
    "#há três colunas definidas como tipo 'object', quando deveriam estar com definições mais específicas\n",
    "#observando as cinco primeiras linhas cima, será necessário retirar as cifras da coluna 'valor_venda' para transformara em numérica"
   ]
  },
  {
   "cell_type": "code",
   "execution_count": 5,
   "metadata": {},
   "outputs": [],
   "source": [
    "df = df.dropna(how='all', axis='columns')\n",
    "\n",
    "#drop da coluna vazia"
   ]
  },
  {
   "cell_type": "code",
   "execution_count": 6,
   "metadata": {},
   "outputs": [],
   "source": [
    "df = df.rename(columns = {' valor_venda ': 'valor_venda'})\n",
    "\n",
    "#ajuste na nomenclatura da coluna"
   ]
  },
  {
   "cell_type": "code",
   "execution_count": 7,
   "metadata": {},
   "outputs": [
    {
     "data": {
      "text/plain": [
       "0     R$ 171.04 \n",
       "1      R$ 80.57 \n",
       "2      R$ 83.79 \n",
       "3      R$ 77.94 \n",
       "4     R$ 147.15 \n",
       "5      R$ 34.51 \n",
       "6     R$ 234.01 \n",
       "7     R$ 141.49 \n",
       "8     R$ 190.11 \n",
       "9      R$ 69.25 \n",
       "Name: valor_venda, dtype: object"
      ]
     },
     "execution_count": 7,
     "metadata": {},
     "output_type": "execute_result"
    }
   ],
   "source": [
    "df['valor_venda'] = df['valor_venda'].str.replace(',', '.')\n",
    "\n",
    "df['valor_venda'].head(10)\n",
    "\n",
    "#trocar as vírgulas por pontos, visto que são o padrão decimal da linguagem"
   ]
  },
  {
   "cell_type": "code",
   "execution_count": 8,
   "metadata": {},
   "outputs": [
    {
     "data": {
      "text/plain": [
       "0    171.04\n",
       "1     80.57\n",
       "2     83.79\n",
       "3     77.94\n",
       "4    147.15\n",
       "5     34.51\n",
       "6    234.01\n",
       "7    141.49\n",
       "8    190.11\n",
       "9     69.25\n",
       "Name: valor_venda, dtype: object"
      ]
     },
     "execution_count": 8,
     "metadata": {},
     "output_type": "execute_result"
    }
   ],
   "source": [
    "df['valor_venda'] = df['valor_venda'].str.extract('(\\d+\\.\\d+)', expand=False)\n",
    "\n",
    "df['valor_venda'].head(10)\n",
    "\n",
    "#retirando os símbolos e espaços para deixar somente números e decimais"
   ]
  },
  {
   "cell_type": "code",
   "execution_count": 9,
   "metadata": {},
   "outputs": [],
   "source": [
    "df['valor_venda'] = pd.to_numeric(df['valor_venda'])\n",
    "df['data_hora_venda'] =  pd.to_datetime(df['data_hora_venda'])\n",
    "\n",
    "#transformando a coluna de object para float\n",
    "#e a coluna data_hora_venda de object para datetime"
   ]
  },
  {
   "cell_type": "code",
   "execution_count": 10,
   "metadata": {},
   "outputs": [
    {
     "name": "stdout",
     "output_type": "stream",
     "text": [
      "<class 'pandas.core.frame.DataFrame'>\n",
      "RangeIndex: 293 entries, 0 to 292\n",
      "Data columns (total 5 columns):\n",
      " #   Column           Non-Null Count  Dtype         \n",
      "---  ------           --------------  -----         \n",
      " 0   venda_id         293 non-null    int64         \n",
      " 1   cliente_id       293 non-null    int64         \n",
      " 2   nome_cliente     293 non-null    object        \n",
      " 3   data_hora_venda  293 non-null    datetime64[ns]\n",
      " 4   valor_venda      293 non-null    float64       \n",
      "dtypes: datetime64[ns](1), float64(1), int64(2), object(1)\n",
      "memory usage: 11.6+ KB\n"
     ]
    }
   ],
   "source": [
    "df.info()\n",
    "\n",
    "#TABELA ATUALIZADA:\n",
    "#sem a coluna inútil\n",
    "#com a nomenclatura correta da coluna valor_venda\n",
    "#valores da coluna valor_venda realmente são números agora\n",
    "#coluna data_hora_venda realmente é data agora"
   ]
  },
  {
   "cell_type": "code",
   "execution_count": 11,
   "metadata": {},
   "outputs": [
    {
     "data": {
      "text/plain": [
       "venda_id        293\n",
       "nome_cliente      1\n",
       "dtype: int64"
      ]
     },
     "execution_count": 11,
     "metadata": {},
     "output_type": "execute_result"
    }
   ],
   "source": [
    "df[['venda_id', 'nome_cliente']].nunique()\n",
    "\n",
    "#confirmando se não há duplicidade na tabela, visto que a venda_id é a chave única\n",
    "#confirmando quantos clientes únicos há na tabela"
   ]
  },
  {
   "cell_type": "code",
   "execution_count": 12,
   "metadata": {},
   "outputs": [],
   "source": [
    "df = df.sort_values(by = 'data_hora_venda')"
   ]
  },
  {
   "cell_type": "code",
   "execution_count": 13,
   "metadata": {},
   "outputs": [],
   "source": [
    "df['dias_desde_ultima_venda'] = df.groupby('cliente_id')['data_hora_venda'].diff().apply(lambda x: x.days)\n",
    "\n",
    "#diferença não cumulativa entre datas no grupo (somente um, nesse caso)"
   ]
  },
  {
   "cell_type": "code",
   "execution_count": 14,
   "metadata": {},
   "outputs": [
    {
     "data": {
      "text/plain": [
       "3                               NaT\n",
       "17    1725-09-23 17:39:43.145224192\n",
       "22    1773-09-28 03:19:43.145224192\n",
       "0     1821-10-04 14:35:43.145224192\n",
       "1     1869-10-20 23:35:43.145224192\n",
       "                   ...             \n",
       "288   2169-12-16 21:52:14.115985408\n",
       "289   2222-10-05 05:07:14.115985408\n",
       "254   1691-01-09 15:43:40.406433792\n",
       "272   1743-11-14 02:12:40.406433792\n",
       "292   1796-09-19 22:43:40.406433792\n",
       "Name: data_hora_venda, Length: 293, dtype: datetime64[ns]"
      ]
     },
     "execution_count": 14,
     "metadata": {},
     "output_type": "execute_result"
    }
   ],
   "source": [
    "df['data_hora_venda'].shift().cumsum()\n",
    "\n",
    "#para obter uma soma cumulativa dessa diferença"
   ]
  },
  {
   "cell_type": "code",
   "execution_count": 15,
   "metadata": {},
   "outputs": [],
   "source": [
    "df.loc[:, 'dias_desde_ultima_venda'] = df.groupby(['cliente_id', df['data_hora_venda'].shift().cumsum()])['dias_desde_ultima_venda'].cumsum()"
   ]
  },
  {
   "cell_type": "code",
   "execution_count": 16,
   "metadata": {},
   "outputs": [
    {
     "data": {
      "text/html": [
       "<div>\n",
       "<style scoped>\n",
       "    .dataframe tbody tr th:only-of-type {\n",
       "        vertical-align: middle;\n",
       "    }\n",
       "\n",
       "    .dataframe tbody tr th {\n",
       "        vertical-align: top;\n",
       "    }\n",
       "\n",
       "    .dataframe thead th {\n",
       "        text-align: right;\n",
       "    }\n",
       "</style>\n",
       "<table border=\"1\" class=\"dataframe\">\n",
       "  <thead>\n",
       "    <tr style=\"text-align: right;\">\n",
       "      <th></th>\n",
       "      <th>venda_id</th>\n",
       "      <th>cliente_id</th>\n",
       "      <th>nome_cliente</th>\n",
       "      <th>data_hora_venda</th>\n",
       "      <th>valor_venda</th>\n",
       "      <th>dias_desde_ultima_venda</th>\n",
       "    </tr>\n",
       "  </thead>\n",
       "  <tbody>\n",
       "    <tr>\n",
       "      <th>3</th>\n",
       "      <td>4</td>\n",
       "      <td>17012022</td>\n",
       "      <td>IA Blu Ltda</td>\n",
       "      <td>2018-01-02 17:27:00</td>\n",
       "      <td>77.94</td>\n",
       "      <td>NaN</td>\n",
       "    </tr>\n",
       "    <tr>\n",
       "      <th>17</th>\n",
       "      <td>18</td>\n",
       "      <td>17012022</td>\n",
       "      <td>IA Blu Ltda</td>\n",
       "      <td>2018-01-05 09:40:00</td>\n",
       "      <td>173.02</td>\n",
       "      <td>2.00</td>\n",
       "    </tr>\n",
       "    <tr>\n",
       "      <th>22</th>\n",
       "      <td>23</td>\n",
       "      <td>17012022</td>\n",
       "      <td>IA Blu Ltda</td>\n",
       "      <td>2018-01-06 11:16:00</td>\n",
       "      <td>158.84</td>\n",
       "      <td>1.00</td>\n",
       "    </tr>\n",
       "    <tr>\n",
       "      <th>0</th>\n",
       "      <td>1</td>\n",
       "      <td>17012022</td>\n",
       "      <td>IA Blu Ltda</td>\n",
       "      <td>2018-01-17 09:00:00</td>\n",
       "      <td>171.04</td>\n",
       "      <td>10.00</td>\n",
       "    </tr>\n",
       "    <tr>\n",
       "      <th>1</th>\n",
       "      <td>2</td>\n",
       "      <td>17012022</td>\n",
       "      <td>IA Blu Ltda</td>\n",
       "      <td>2018-01-22 12:52:00</td>\n",
       "      <td>80.57</td>\n",
       "      <td>5.00</td>\n",
       "    </tr>\n",
       "  </tbody>\n",
       "</table>\n",
       "</div>"
      ],
      "text/plain": [
       "    venda_id  cliente_id nome_cliente     data_hora_venda  valor_venda  \\\n",
       "3          4    17012022  IA Blu Ltda 2018-01-02 17:27:00        77.94   \n",
       "17        18    17012022  IA Blu Ltda 2018-01-05 09:40:00       173.02   \n",
       "22        23    17012022  IA Blu Ltda 2018-01-06 11:16:00       158.84   \n",
       "0          1    17012022  IA Blu Ltda 2018-01-17 09:00:00       171.04   \n",
       "1          2    17012022  IA Blu Ltda 2018-01-22 12:52:00        80.57   \n",
       "\n",
       "    dias_desde_ultima_venda  \n",
       "3                       NaN  \n",
       "17                     2.00  \n",
       "22                     1.00  \n",
       "0                     10.00  \n",
       "1                      5.00  "
      ]
     },
     "execution_count": 16,
     "metadata": {},
     "output_type": "execute_result"
    }
   ],
   "source": [
    "df.head()"
   ]
  },
  {
   "cell_type": "code",
   "execution_count": 17,
   "metadata": {},
   "outputs": [
    {
     "data": {
      "image/png": "[encoded data removed]",
      "text/plain": [
       "<Figure size 432x360 with 1 Axes>"
      ]
     },
     "metadata": {
      "needs_background": "light"
     },
     "output_type": "display_data"
    }
   ],
   "source": [
    "group1 = df.groupby('dias_desde_ultima_venda').count()['venda_id'].plot(kind='bar')\n",
    "\n",
    "#o máximo de dias sem vendas foram 21\n",
    "#os dias sem vendas mais frequentes são de 3 a 5 dias\n",
    "\n",
    "#o volume de dados se  de forma decrescente\n",
    "#não houve casos em que se passaram 29 dias sem vendas, portanto, quando um evento é igual ao conjunto vazio, ele é chamado de evento impossível e possui 0% de probabilidade de ocorrência"
   ]
  },
  {
   "cell_type": "code",
   "execution_count": 18,
   "metadata": {},
   "outputs": [
    {
     "data": {
      "image/png": "[encoded data removed]",
      "text/plain": [
       "<Figure size 432x360 with 1 Axes>"
      ]
     },
     "metadata": {
      "needs_background": "light"
     },
     "output_type": "display_data"
    }
   ],
   "source": [
    "df2 = df.groupby(['data_hora_venda']).agg({'valor_venda': ['sum']})\n",
    "\n",
    "pl = df2.plot()\n",
    "\n",
    "#é possível perceber uma tendência de aumento nas vendas ao longo do tempo desde o início da operação"
   ]
  },
  {
   "cell_type": "markdown",
   "metadata": {},
   "source": [
    "\n",
    "# Treinamento e teste\n",
    " "
   ]
  },
  {
   "cell_type": "code",
   "execution_count": 19,
   "metadata": {},
   "outputs": [
    {
     "data": {
      "text/html": [
       "<div>\n",
       "<style scoped>\n",
       "    .dataframe tbody tr th:only-of-type {\n",
       "        vertical-align: middle;\n",
       "    }\n",
       "\n",
       "    .dataframe tbody tr th {\n",
       "        vertical-align: top;\n",
       "    }\n",
       "\n",
       "    .dataframe thead th {\n",
       "        text-align: right;\n",
       "    }\n",
       "</style>\n",
       "<table border=\"1\" class=\"dataframe\">\n",
       "  <thead>\n",
       "    <tr style=\"text-align: right;\">\n",
       "      <th></th>\n",
       "      <th>data_hora_venda</th>\n",
       "      <th>valor_venda</th>\n",
       "    </tr>\n",
       "  </thead>\n",
       "  <tbody>\n",
       "    <tr>\n",
       "      <th>3</th>\n",
       "      <td>2018-01-02 17:27:00</td>\n",
       "      <td>77.94</td>\n",
       "    </tr>\n",
       "    <tr>\n",
       "      <th>17</th>\n",
       "      <td>2018-01-05 09:40:00</td>\n",
       "      <td>173.02</td>\n",
       "    </tr>\n",
       "    <tr>\n",
       "      <th>22</th>\n",
       "      <td>2018-01-06 11:16:00</td>\n",
       "      <td>158.84</td>\n",
       "    </tr>\n",
       "  </tbody>\n",
       "</table>\n",
       "</div>"
      ],
      "text/plain": [
       "       data_hora_venda  valor_venda\n",
       "3  2018-01-02 17:27:00        77.94\n",
       "17 2018-01-05 09:40:00       173.02\n",
       "22 2018-01-06 11:16:00       158.84"
      ]
     },
     "execution_count": 19,
     "metadata": {},
     "output_type": "execute_result"
    }
   ],
   "source": [
    "A = df.drop(['venda_id' , 'cliente_id', 'nome_cliente', 'dias_desde_ultima_venda'], axis=1)\n",
    "A[:3]\n",
    "\n",
    "#remoção das colunas não úteis para o modelo em questão"
   ]
  },
  {
   "cell_type": "code",
   "execution_count": 20,
   "metadata": {},
   "outputs": [],
   "source": [
    "X = A.data_hora_venda\n",
    "\n",
    "y = A.valor_venda"
   ]
  },
  {
   "cell_type": "code",
   "execution_count": 21,
   "metadata": {},
   "outputs": [],
   "source": [
    "from sklearn.model_selection import train_test_split\n",
    "\n",
    "#foi escolhido aprendizado supervisionado porque temos um conjunto de entradas"
   ]
  },
  {
   "cell_type": "code",
   "execution_count": 22,
   "metadata": {},
   "outputs": [],
   "source": [
    "X_train, X_test, y_train, y_test = train_test_split(X, y, test_size = 0.3)\n",
    "\n",
    "#separação dos dados de teste e treinamento\n",
    "#como são poucos dados, foi deixado 30% dos dados para teste"
   ]
  },
  {
   "cell_type": "code",
   "execution_count": 23,
   "metadata": {},
   "outputs": [],
   "source": [
    "from sklearn.linear_model import LinearRegression"
   ]
  },
  {
   "cell_type": "code",
   "execution_count": 24,
   "metadata": {},
   "outputs": [],
   "source": [
    "model = LinearRegression()\n",
    "\n",
    "#como é uma predição de valor contínuo e nem classes, foi utilizada regressão linear"
   ]
  },
  {
   "cell_type": "code",
   "execution_count": 25,
   "metadata": {},
   "outputs": [],
   "source": [
    "from sklearn.preprocessing import StandardScaler\n",
    "scaler = StandardScaler()\n",
    "\n",
    "X_train = scaler.fit_transform(pd.DataFrame(X_train))\n",
    "X_test = scaler.fit_transform(pd.DataFrame(X_test))"
   ]
  },
  {
   "cell_type": "code",
   "execution_count": 26,
   "metadata": {},
   "outputs": [
    {
     "data": {
      "text/plain": [
       "array([[ 0.51851194],\n",
       "       [ 0.68732241],\n",
       "       [-0.16489845],\n",
       "       [ 0.37542986],\n",
       "       [ 0.56051483],\n",
       "       [ 1.64401746],\n",
       "       [-1.22656883],\n",
       "       [ 1.04287016],\n",
       "       [ 0.83360143],\n",
       "       [ 0.18804522],\n",
       "       [-0.411047  ],\n",
       "       [-1.47831634],\n",
       "       [ 1.03340429],\n",
       "       [ 1.60743009],\n",
       "       [-1.63637021],\n",
       "       [ 0.82666519],\n",
       "       [-1.09046021],\n",
       "       [-0.10878914],\n",
       "       [-0.18268833],\n",
       "       [ 1.45326041],\n",
       "       [-1.37024111],\n",
       "       [-1.67428819],\n",
       "       [-0.0924402 ],\n",
       "       [ 1.66216492],\n",
       "       [ 0.50424334],\n",
       "       [ 0.21994418],\n",
       "       [-0.51789795],\n",
       "       [-1.11059629],\n",
       "       [-0.10097956],\n",
       "       [ 0.90918882],\n",
       "       [ 1.29936058],\n",
       "       [ 1.40285508],\n",
       "       [-1.60031987],\n",
       "       [-1.37393654],\n",
       "       [ 1.69216965],\n",
       "       [ 0.4014188 ],\n",
       "       [-0.99542398],\n",
       "       [-1.29671279],\n",
       "       [-1.53610987],\n",
       "       [-1.20982111],\n",
       "       [ 0.7004425 ],\n",
       "       [ 1.46078153],\n",
       "       [ 0.47736112],\n",
       "       [ 0.90705265],\n",
       "       [-0.24704589],\n",
       "       [-0.77305775],\n",
       "       [-1.0049058 ],\n",
       "       [-1.64624949],\n",
       "       [-0.51983207],\n",
       "       [ 0.43598033],\n",
       "       [-1.43127943],\n",
       "       [-0.80163615],\n",
       "       [ 0.42156551],\n",
       "       [ 0.87224255],\n",
       "       [-0.79281233],\n",
       "       [ 1.32356827],\n",
       "       [ 0.01326358],\n",
       "       [ 0.29791234],\n",
       "       [ 0.46510241],\n",
       "       [ 1.01584836],\n",
       "       [-1.06239226],\n",
       "       [ 0.0528671 ],\n",
       "       [-1.41655356],\n",
       "       [-1.61314619],\n",
       "       [ 0.76889028],\n",
       "       [-1.27374665],\n",
       "       [ 1.56327109],\n",
       "       [ 0.82997114],\n",
       "       [-0.01824192],\n",
       "       [ 1.57432945],\n",
       "       [ 0.35187751],\n",
       "       [ 0.33808214],\n",
       "       [-0.69026162],\n",
       "       [-1.0207948 ],\n",
       "       [ 0.06740155],\n",
       "       [ 0.14756835],\n",
       "       [ 0.75405541],\n",
       "       [-1.46714898],\n",
       "       [-0.98469794],\n",
       "       [-0.34347921],\n",
       "       [ 0.99725027],\n",
       "       [ 1.20888248],\n",
       "       [-0.28691793],\n",
       "       [ 0.54158043],\n",
       "       [-0.23651792],\n",
       "       [-0.74234983],\n",
       "       [ 1.34308623],\n",
       "       [-0.24167955]])"
      ]
     },
     "execution_count": 26,
     "metadata": {},
     "output_type": "execute_result"
    }
   ],
   "source": [
    "X_train.reshape(-1, 1)\n",
    "X_test.reshape(-1, 1)"
   ]
  },
  {
   "cell_type": "code",
   "execution_count": 27,
   "metadata": {},
   "outputs": [
    {
     "data": {
      "text/html": [
       "<style>#sk-container-id-1 {color: black;background-color: white;}#sk-container-id-1 pre{padding: 0;}#sk-container-id-1 div.sk-toggleable {background-color: white;}#sk-container-id-1 label.sk-toggleable__label {cursor: pointer;display: block;width: 100%;margin-bottom: 0;padding: 0.3em;box-sizing: border-box;text-align: center;}#sk-container-id-1 label.sk-toggleable__label-arrow:before {content: \"▸\";float: left;margin-right: 0.25em;color: #696969;}#sk-container-id-1 label.sk-toggleable__label-arrow:hover:before {color: black;}#sk-container-id-1 div.sk-estimator:hover label.sk-toggleable__label-arrow:before {color: black;}#sk-container-id-1 div.sk-toggleable__content {max-height: 0;max-width: 0;overflow: hidden;text-align: left;background-color: #f0f8ff;}#sk-container-id-1 div.sk-toggleable__content pre {margin: 0.2em;color: black;border-radius: 0.25em;background-color: #f0f8ff;}#sk-container-id-1 input.sk-toggleable__control:checked~div.sk-toggleable__content {max-height: 200px;max-width: 100%;overflow: auto;}#sk-container-id-1 input.sk-toggleable__control:checked~label.sk-toggleable__label-arrow:before {content: \"▾\";}#sk-container-id-1 div.sk-estimator input.sk-toggleable__control:checked~label.sk-toggleable__label {background-color: #d4ebff;}#sk-container-id-1 div.sk-label input.sk-toggleable__control:checked~label.sk-toggleable__label {background-color: #d4ebff;}#sk-container-id-1 input.sk-hidden--visually {border: 0;clip: rect(1px 1px 1px 1px);clip: rect(1px, 1px, 1px, 1px);height: 1px;margin: -1px;overflow: hidden;padding: 0;position: absolute;width: 1px;}#sk-container-id-1 div.sk-estimator {font-family: monospace;background-color: #f0f8ff;border: 1px dotted black;border-radius: 0.25em;box-sizing: border-box;margin-bottom: 0.5em;}#sk-container-id-1 div.sk-estimator:hover {background-color: #d4ebff;}#sk-container-id-1 div.sk-parallel-item::after {content: \"\";width: 100%;border-bottom: 1px solid gray;flex-grow: 1;}#sk-container-id-1 div.sk-label:hover label.sk-toggleable__label {background-color: #d4ebff;}#sk-container-id-1 div.sk-serial::before {content: \"\";position: absolute;border-left: 1px solid gray;box-sizing: border-box;top: 0;bottom: 0;left: 50%;z-index: 0;}#sk-container-id-1 div.sk-serial {display: flex;flex-direction: column;align-items: center;background-color: white;padding-right: 0.2em;padding-left: 0.2em;position: relative;}#sk-container-id-1 div.sk-item {position: relative;z-index: 1;}#sk-container-id-1 div.sk-parallel {display: flex;align-items: stretch;justify-content: center;background-color: white;position: relative;}#sk-container-id-1 div.sk-item::before, #sk-container-id-1 div.sk-parallel-item::before {content: \"\";position: absolute;border-left: 1px solid gray;box-sizing: border-box;top: 0;bottom: 0;left: 50%;z-index: -1;}#sk-container-id-1 div.sk-parallel-item {display: flex;flex-direction: column;z-index: 1;position: relative;background-color: white;}#sk-container-id-1 div.sk-parallel-item:first-child::after {align-self: flex-end;width: 50%;}#sk-container-id-1 div.sk-parallel-item:last-child::after {align-self: flex-start;width: 50%;}#sk-container-id-1 div.sk-parallel-item:only-child::after {width: 0;}#sk-container-id-1 div.sk-dashed-wrapped {border: 1px dashed gray;margin: 0 0.4em 0.5em 0.4em;box-sizing: border-box;padding-bottom: 0.4em;background-color: white;}#sk-container-id-1 div.sk-label label {font-family: monospace;font-weight: bold;display: inline-block;line-height: 1.2em;}#sk-container-id-1 div.sk-label-container {text-align: center;}#sk-container-id-1 div.sk-container {/* jupyter's `normalize.less` sets `[hidden] { display: none; }` but bootstrap.min.css set `[hidden] { display: none !important; }` so we also need the `!important` here to be able to override the default hidden behavior on the sphinx rendered scikit-learn.org. See: https://github.com/scikit-learn/scikit-learn/issues/21755 */display: inline-block !important;position: relative;}#sk-container-id-1 div.sk-text-repr-fallback {display: none;}</style><div id=\"sk-container-id-1\" class=\"sk-top-container\"><div class=\"sk-text-repr-fallback\"><pre>LinearRegression()</pre><b>In a Jupyter environment, please rerun this cell to show the HTML representation or trust the notebook. <br />On GitHub, the HTML representation is unable to render, please try loading this page with nbviewer.org.</b></div><div class=\"sk-container\" hidden><div class=\"sk-item\"><div class=\"sk-estimator sk-toggleable\"><input class=\"sk-toggleable__control sk-hidden--visually\" id=\"sk-estimator-id-1\" type=\"checkbox\" checked><label for=\"sk-estimator-id-1\" class=\"sk-toggleable__label sk-toggleable__label-arrow\">LinearRegression</label><div class=\"sk-toggleable__content\"><pre>LinearRegression()</pre></div></div></div></div></div>"
      ],
      "text/plain": [
       "LinearRegression()"
      ]
     },
     "execution_count": 27,
     "metadata": {},
     "output_type": "execute_result"
    }
   ],
   "source": [
    "model.fit(X_train, y_train)"
   ]
  },
  {
   "cell_type": "code",
   "execution_count": 29,
   "metadata": {},
   "outputs": [],
   "source": [
    "#Training  the Xtrain and ytrain\n",
    "model.fit(X_train, y_train)\n",
    "\n",
    "#Predictions Xtest\n",
    "y_predicton = model.predict(X_test)"
   ]
  },
  {
   "cell_type": "code",
   "execution_count": 33,
   "metadata": {},
   "outputs": [
    {
     "data": {
      "text/plain": [
       "<matplotlib.collections.PathCollection at 0x2430a7d5d60>"
      ]
     },
     "execution_count": 33,
     "metadata": {},
     "output_type": "execute_result"
    },
    {
     "data": {
      "image/png": "[encoded data removed]",
      "text/plain": [
       "<Figure size 432x360 with 1 Axes>"
      ]
     },
     "metadata": {
      "needs_background": "light"
     },
     "output_type": "display_data"
    }
   ],
   "source": [
    "plt.scatter(y_test, y_predicton)"
   ]
  },
  {
   "cell_type": "code",
   "execution_count": 34,
   "metadata": {},
   "outputs": [
    {
     "data": {
      "text/plain": [
       "(array([ 8., 40., 34.,  4.,  0.,  0.,  0.,  0.,  0.,  2.]),\n",
       " array([-167.2320126 ,  -91.02209099,  -14.81216937,   61.39775224,\n",
       "         137.60767386,  213.81759547,  290.02751709,  366.2374387 ,\n",
       "         442.44736032,  518.65728193,  594.86720355]),\n",
       " <BarContainer object of 10 artists>)"
      ]
     },
     "execution_count": 34,
     "metadata": {},
     "output_type": "execute_result"
    },
    {
     "data": {
      "image/png": "[encoded data removed]",
      "text/plain": [
       "<Figure size 432x360 with 1 Axes>"
      ]
     },
     "metadata": {
      "needs_background": "light"
     },
     "output_type": "display_data"
    }
   ],
   "source": [
    "plt.hist(y_test - y_predicton)"
   ]
  },
  {
   "cell_type": "code",
   "execution_count": 35,
   "metadata": {},
   "outputs": [],
   "source": [
    "from sklearn.metrics import mean_squared_error, r2_score, mean_absolute_error\n",
    "from numpy import sqrt"
   ]
  },
  {
   "cell_type": "code",
   "execution_count": 36,
   "metadata": {},
   "outputs": [
    {
     "name": "stdout",
     "output_type": "stream",
     "text": [
      "Coefficients: [124.04812343]\n",
      "Intercept: 329.6747317073167\n",
      "Coefficient of determination (R^2): 0.548\n",
      "Mean absolute error (MAE): 59.555\n",
      "Mean squared error (MSE): 11017.563\n",
      "Root mean squared error (RMSE) : 104.965\n"
     ]
    }
   ],
   "source": [
    "# Model performance\n",
    "print('Coefficients:', model.coef_)\n",
    "print('Intercept:', model.intercept_)\n",
    "print('Coefficient of determination (R^2): %.3f' % r2_score(y_test, y_predicton))\n",
    "print('Mean absolute error (MAE): %.3f'% mean_absolute_error(y_test, y_predicton))\n",
    "print('Mean squared error (MSE): %.3f'% mean_squared_error(y_test, y_predicton))\n",
    "print('Root mean squared error (RMSE) : %.3f'% sqrt(mean_squared_error(y_test, y_predicton)) )"
   ]
  },
  {
   "cell_type": "code",
   "execution_count": 37,
   "metadata": {},
   "outputs": [
    {
     "name": "stdout",
     "output_type": "stream",
     "text": [
      "[393.99516423 414.93578694 309.21938821 376.24610132 399.2055443\n",
      " 533.6120126  177.52116988 459.04081822 433.08142445 353.00138845\n",
      " 278.6851231  146.29236332 457.86659464 529.07341835 126.68607808]\n"
     ]
    }
   ],
   "source": [
    "print(y_predicton[:15])"
   ]
  },
  {
   "cell_type": "code",
   "execution_count": 39,
   "metadata": {},
   "outputs": [
    {
     "name": "stdout",
     "output_type": "stream",
     "text": [
      "Accuracy of Linear Regression on training set: 82.24 \n",
      "Accuracy of Linear Regression on test set: 54.83\n"
     ]
    }
   ],
   "source": [
    "print('Accuracy of Linear Regression on training set: {:.2f}'.format(model.score(X_train, y_train) * 100) ,'\\nAccuracy of Linear Regression on test set: {:.2f}'.format(model.score(X_test, y_test) * 100))"
   ]
  },
  {
   "cell_type": "code",
   "execution_count": null,
   "metadata": {},
   "outputs": [],
   "source": []
  }
 ],
 "metadata": {
  "kernelspec": {
   "display_name": "Python 3 (ipykernel)",
   "language": "python",
   "name": "python3"
  },
  "language_info": {
   "codemirror_mode": {
    "name": "ipython",
    "version": 3
   },
   "file_extension": ".py",
   "mimetype": "text/x-python",
   "name": "python",
   "nbconvert_exporter": "python",
   "pygments_lexer": "ipython3",
   "version": "3.9.7"
  }
 },
 "nbformat": 4,
 "nbformat_minor": 2
}
