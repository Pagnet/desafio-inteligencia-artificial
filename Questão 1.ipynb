{
 "cells": [
  {
   "cell_type": "markdown",
   "id": "9e183cdc-f2ec-4909-b03c-706c861f7260",
   "metadata": {},
   "source": [
    "# Importação dos dados e carregamento dos pacotes"
   ]
  },
  {
   "cell_type": "code",
   "execution_count": 1,
   "id": "7d4c491e-064b-4d1c-82a3-5479f84424e7",
   "metadata": {},
   "outputs": [],
   "source": [
    "import pandas as pd\n",
    "import numpy as np"
   ]
  },
  {
   "cell_type": "code",
   "execution_count": 2,
   "id": "1aaf75bf-0c55-4492-9244-3112b427a6bd",
   "metadata": {},
   "outputs": [],
   "source": [
    "df = pd.read_csv('ia_vende_normalmente.csv', delimiter= ';', index_col=[0])"
   ]
  },
  {
   "cell_type": "markdown",
   "id": "bd6070f2-02bc-4b0f-9a31-f30772a4241e",
   "metadata": {},
   "source": [
    "# Explorações Iniciais"
   ]
  },
  {
   "cell_type": "code",
   "execution_count": 3,
   "id": "e3c40770-8d34-4983-ab9d-6ba3dbd2dcae",
   "metadata": {},
   "outputs": [
    {
     "data": {
      "text/html": [
       "<div>\n",
       "<style scoped>\n",
       "    .dataframe tbody tr th:only-of-type {\n",
       "        vertical-align: middle;\n",
       "    }\n",
       "\n",
       "    .dataframe tbody tr th {\n",
       "        vertical-align: top;\n",
       "    }\n",
       "\n",
       "    .dataframe thead th {\n",
       "        text-align: right;\n",
       "    }\n",
       "</style>\n",
       "<table border=\"1\" class=\"dataframe\">\n",
       "  <thead>\n",
       "    <tr style=\"text-align: right;\">\n",
       "      <th></th>\n",
       "      <th>cliente_id</th>\n",
       "      <th>nome_cliente</th>\n",
       "      <th>data_hora_venda</th>\n",
       "      <th>valor_venda</th>\n",
       "      <th>Unnamed: 5</th>\n",
       "    </tr>\n",
       "    <tr>\n",
       "      <th>venda_id</th>\n",
       "      <th></th>\n",
       "      <th></th>\n",
       "      <th></th>\n",
       "      <th></th>\n",
       "      <th></th>\n",
       "    </tr>\n",
       "  </thead>\n",
       "  <tbody>\n",
       "    <tr>\n",
       "      <th>1</th>\n",
       "      <td>17012022</td>\n",
       "      <td>IA Blu Ltda</td>\n",
       "      <td>17/01/2018 09:00</td>\n",
       "      <td>R$ 171,04</td>\n",
       "      <td>NaN</td>\n",
       "    </tr>\n",
       "    <tr>\n",
       "      <th>2</th>\n",
       "      <td>17012022</td>\n",
       "      <td>IA Blu Ltda</td>\n",
       "      <td>22/01/2018 12:52</td>\n",
       "      <td>R$ 80,57</td>\n",
       "      <td>NaN</td>\n",
       "    </tr>\n",
       "    <tr>\n",
       "      <th>3</th>\n",
       "      <td>17012022</td>\n",
       "      <td>IA Blu Ltda</td>\n",
       "      <td>27/01/2018 18:33</td>\n",
       "      <td>R$ 83,79</td>\n",
       "      <td>NaN</td>\n",
       "    </tr>\n",
       "    <tr>\n",
       "      <th>4</th>\n",
       "      <td>17012022</td>\n",
       "      <td>IA Blu Ltda</td>\n",
       "      <td>01/02/2018 17:27</td>\n",
       "      <td>R$ 77,94</td>\n",
       "      <td>NaN</td>\n",
       "    </tr>\n",
       "    <tr>\n",
       "      <th>5</th>\n",
       "      <td>17012022</td>\n",
       "      <td>IA Blu Ltda</td>\n",
       "      <td>09/02/2018 08:57</td>\n",
       "      <td>R$ 147,15</td>\n",
       "      <td>NaN</td>\n",
       "    </tr>\n",
       "  </tbody>\n",
       "</table>\n",
       "</div>"
      ],
      "text/plain": [
       "          cliente_id nome_cliente   data_hora_venda  valor_venda   Unnamed: 5\n",
       "venda_id                                                                     \n",
       "1           17012022  IA Blu Ltda  17/01/2018 09:00    R$ 171,04          NaN\n",
       "2           17012022  IA Blu Ltda  22/01/2018 12:52     R$ 80,57          NaN\n",
       "3           17012022  IA Blu Ltda  27/01/2018 18:33     R$ 83,79          NaN\n",
       "4           17012022  IA Blu Ltda  01/02/2018 17:27     R$ 77,94          NaN\n",
       "5           17012022  IA Blu Ltda  09/02/2018 08:57    R$ 147,15          NaN"
      ]
     },
     "execution_count": 3,
     "metadata": {},
     "output_type": "execute_result"
    }
   ],
   "source": [
    "df.head()"
   ]
  },
  {
   "cell_type": "code",
   "execution_count": 4,
   "id": "14367da9-4024-4802-b22b-b5419e1f3ab4",
   "metadata": {},
   "outputs": [
    {
     "data": {
      "text/plain": [
       "Index(['cliente_id', 'nome_cliente', 'data_hora_venda', ' valor_venda ',\n",
       "       'Unnamed: 5'],\n",
       "      dtype='object')"
      ]
     },
     "execution_count": 4,
     "metadata": {},
     "output_type": "execute_result"
    }
   ],
   "source": [
    "df.columns"
   ]
  },
  {
   "cell_type": "markdown",
   "id": "2359ac13-c447-4439-8ad1-2d0d5c7b24d7",
   "metadata": {},
   "source": [
    "Aqui notamos que a coluna valor_venda está com espaços extras, o que será um incômodo, logo vamos formatar esse nome de coluna. Notamos também uma coluna estranha ao final, contendo apenas valores nulos, a qual eliminaremos. "
   ]
  },
  {
   "cell_type": "code",
   "execution_count": 5,
   "id": "67b121ff-7ab9-4a5e-90c4-10355e39553d",
   "metadata": {},
   "outputs": [],
   "source": [
    "df.rename(columns={' valor_venda ':'valor_venda'}, inplace= True)"
   ]
  },
  {
   "cell_type": "code",
   "execution_count": 6,
   "id": "c9288bc7-a833-430e-90c1-6048b8e34865",
   "metadata": {},
   "outputs": [],
   "source": [
    "df = df.drop('Unnamed: 5', axis = 1)"
   ]
  },
  {
   "cell_type": "code",
   "execution_count": 7,
   "id": "d48586e6-40ac-414e-93e2-b0a7b1eb0478",
   "metadata": {},
   "outputs": [
    {
     "data": {
      "text/html": [
       "<div>\n",
       "<style scoped>\n",
       "    .dataframe tbody tr th:only-of-type {\n",
       "        vertical-align: middle;\n",
       "    }\n",
       "\n",
       "    .dataframe tbody tr th {\n",
       "        vertical-align: top;\n",
       "    }\n",
       "\n",
       "    .dataframe thead th {\n",
       "        text-align: right;\n",
       "    }\n",
       "</style>\n",
       "<table border=\"1\" class=\"dataframe\">\n",
       "  <thead>\n",
       "    <tr style=\"text-align: right;\">\n",
       "      <th></th>\n",
       "      <th>cliente_id</th>\n",
       "      <th>nome_cliente</th>\n",
       "      <th>data_hora_venda</th>\n",
       "      <th>valor_venda</th>\n",
       "    </tr>\n",
       "    <tr>\n",
       "      <th>venda_id</th>\n",
       "      <th></th>\n",
       "      <th></th>\n",
       "      <th></th>\n",
       "      <th></th>\n",
       "    </tr>\n",
       "  </thead>\n",
       "  <tbody>\n",
       "    <tr>\n",
       "      <th>1</th>\n",
       "      <td>17012022</td>\n",
       "      <td>IA Blu Ltda</td>\n",
       "      <td>17/01/2018 09:00</td>\n",
       "      <td>R$ 171,04</td>\n",
       "    </tr>\n",
       "    <tr>\n",
       "      <th>2</th>\n",
       "      <td>17012022</td>\n",
       "      <td>IA Blu Ltda</td>\n",
       "      <td>22/01/2018 12:52</td>\n",
       "      <td>R$ 80,57</td>\n",
       "    </tr>\n",
       "    <tr>\n",
       "      <th>3</th>\n",
       "      <td>17012022</td>\n",
       "      <td>IA Blu Ltda</td>\n",
       "      <td>27/01/2018 18:33</td>\n",
       "      <td>R$ 83,79</td>\n",
       "    </tr>\n",
       "    <tr>\n",
       "      <th>4</th>\n",
       "      <td>17012022</td>\n",
       "      <td>IA Blu Ltda</td>\n",
       "      <td>01/02/2018 17:27</td>\n",
       "      <td>R$ 77,94</td>\n",
       "    </tr>\n",
       "    <tr>\n",
       "      <th>5</th>\n",
       "      <td>17012022</td>\n",
       "      <td>IA Blu Ltda</td>\n",
       "      <td>09/02/2018 08:57</td>\n",
       "      <td>R$ 147,15</td>\n",
       "    </tr>\n",
       "  </tbody>\n",
       "</table>\n",
       "</div>"
      ],
      "text/plain": [
       "          cliente_id nome_cliente   data_hora_venda  valor_venda\n",
       "venda_id                                                        \n",
       "1           17012022  IA Blu Ltda  17/01/2018 09:00   R$ 171,04 \n",
       "2           17012022  IA Blu Ltda  22/01/2018 12:52    R$ 80,57 \n",
       "3           17012022  IA Blu Ltda  27/01/2018 18:33    R$ 83,79 \n",
       "4           17012022  IA Blu Ltda  01/02/2018 17:27    R$ 77,94 \n",
       "5           17012022  IA Blu Ltda  09/02/2018 08:57   R$ 147,15 "
      ]
     },
     "execution_count": 7,
     "metadata": {},
     "output_type": "execute_result"
    }
   ],
   "source": [
    "df.head()"
   ]
  },
  {
   "cell_type": "code",
   "execution_count": 8,
   "id": "4fc7d1f2-1a0c-4cf3-a5c7-fc7040a7d6c5",
   "metadata": {},
   "outputs": [
    {
     "data": {
      "text/plain": [
       "cliente_id          int64\n",
       "nome_cliente       object\n",
       "data_hora_venda    object\n",
       "valor_venda        object\n",
       "dtype: object"
      ]
     },
     "execution_count": 8,
     "metadata": {},
     "output_type": "execute_result"
    }
   ],
   "source": [
    "df.dtypes"
   ]
  },
  {
   "cell_type": "markdown",
   "id": "1388788a-e8d0-4569-8041-c5cd79d4879f",
   "metadata": {},
   "source": [
    "Notamos que a coluna de data não está como timestamp/datetime, portanto iremos convertê-la. \n",
    "Analogamente, a coluna valor_venda está como object/string, portanto a transformaremos em número/float."
   ]
  },
  {
   "cell_type": "code",
   "execution_count": 9,
   "id": "cb59e54a-6c8b-48ea-b267-78554222ab2b",
   "metadata": {},
   "outputs": [],
   "source": [
    "# convertendo data para datetime\n",
    "df['data_hora_venda'] = pd.to_datetime(df['data_hora_venda'], dayfirst=True)"
   ]
  },
  {
   "cell_type": "code",
   "execution_count": 10,
   "id": "6f33f9c9-5670-4b1a-a8af-057aecadf4ab",
   "metadata": {},
   "outputs": [],
   "source": [
    "# covertendo valor para número (float)\n",
    "df.valor_venda = df.valor_venda.str.replace('R$ ','') # removendo unidade monetária\n",
    "df.valor_venda = df.valor_venda.str.replace(',','.') # trocando vírgula para ponto como separador de decimal\n",
    "df.valor_venda = pd.to_numeric(df.valor_venda)"
   ]
  },
  {
   "cell_type": "code",
   "execution_count": 11,
   "id": "a2aad066-3c54-44fc-8da2-2adf2c248032",
   "metadata": {},
   "outputs": [
    {
     "data": {
      "text/plain": [
       "cliente_id                  int64\n",
       "nome_cliente               object\n",
       "data_hora_venda    datetime64[ns]\n",
       "valor_venda               float64\n",
       "dtype: object"
      ]
     },
     "execution_count": 11,
     "metadata": {},
     "output_type": "execute_result"
    }
   ],
   "source": [
    "df.dtypes"
   ]
  },
  {
   "cell_type": "code",
   "execution_count": 13,
   "id": "904c1e57-bacf-48bd-8188-3080f6da9cb4",
   "metadata": {},
   "outputs": [
    {
     "data": {
      "text/plain": [
       "nome_cliente\n",
       "IA Blu Ltda    293\n",
       "Name: count, dtype: int64"
      ]
     },
     "execution_count": 13,
     "metadata": {},
     "output_type": "execute_result"
    }
   ],
   "source": [
    "df.nome_cliente.value_counts()"
   ]
  },
  {
   "cell_type": "code",
   "execution_count": 15,
   "id": "49da1206-092d-443f-b9fb-9d752e2de1a9",
   "metadata": {},
   "outputs": [
    {
     "data": {
      "text/plain": [
       "cliente_id\n",
       "17012022    293\n",
       "Name: count, dtype: int64"
      ]
     },
     "execution_count": 15,
     "metadata": {},
     "output_type": "execute_result"
    }
   ],
   "source": [
    "df.cliente_id.value_counts()"
   ]
  },
  {
   "cell_type": "markdown",
   "id": "f3cfdb30-3e1e-4d51-81af-e93863f914a8",
   "metadata": {},
   "source": [
    "Notemos que as colunas nome_cliente e cliente_id possuem apenas um único valor, portanto não são informativas e as eliminaremos da análise"
   ]
  },
  {
   "cell_type": "code",
   "execution_count": 18,
   "id": "e630a95e-041a-4705-a8de-7f0f14c43805",
   "metadata": {},
   "outputs": [],
   "source": [
    "df = df.drop(['nome_cliente', 'cliente_id'], axis = 1)"
   ]
  },
  {
   "cell_type": "code",
   "execution_count": 20,
   "id": "88eea3e0-8172-4505-a121-99f065a18ee9",
   "metadata": {},
   "outputs": [
    {
     "data": {
      "text/html": [
       "<div>\n",
       "<style scoped>\n",
       "    .dataframe tbody tr th:only-of-type {\n",
       "        vertical-align: middle;\n",
       "    }\n",
       "\n",
       "    .dataframe tbody tr th {\n",
       "        vertical-align: top;\n",
       "    }\n",
       "\n",
       "    .dataframe thead th {\n",
       "        text-align: right;\n",
       "    }\n",
       "</style>\n",
       "<table border=\"1\" class=\"dataframe\">\n",
       "  <thead>\n",
       "    <tr style=\"text-align: right;\">\n",
       "      <th></th>\n",
       "      <th>data_hora_venda</th>\n",
       "      <th>valor_venda</th>\n",
       "    </tr>\n",
       "    <tr>\n",
       "      <th>venda_id</th>\n",
       "      <th></th>\n",
       "      <th></th>\n",
       "    </tr>\n",
       "  </thead>\n",
       "  <tbody>\n",
       "    <tr>\n",
       "      <th>1</th>\n",
       "      <td>2018-01-17 09:00:00</td>\n",
       "      <td>171.04</td>\n",
       "    </tr>\n",
       "    <tr>\n",
       "      <th>2</th>\n",
       "      <td>2018-01-22 12:52:00</td>\n",
       "      <td>80.57</td>\n",
       "    </tr>\n",
       "    <tr>\n",
       "      <th>3</th>\n",
       "      <td>2018-01-27 18:33:00</td>\n",
       "      <td>83.79</td>\n",
       "    </tr>\n",
       "    <tr>\n",
       "      <th>4</th>\n",
       "      <td>2018-02-01 17:27:00</td>\n",
       "      <td>77.94</td>\n",
       "    </tr>\n",
       "    <tr>\n",
       "      <th>5</th>\n",
       "      <td>2018-02-09 08:57:00</td>\n",
       "      <td>147.15</td>\n",
       "    </tr>\n",
       "  </tbody>\n",
       "</table>\n",
       "</div>"
      ],
      "text/plain": [
       "             data_hora_venda  valor_venda\n",
       "venda_id                                 \n",
       "1        2018-01-17 09:00:00       171.04\n",
       "2        2018-01-22 12:52:00        80.57\n",
       "3        2018-01-27 18:33:00        83.79\n",
       "4        2018-02-01 17:27:00        77.94\n",
       "5        2018-02-09 08:57:00       147.15"
      ]
     },
     "execution_count": 20,
     "metadata": {},
     "output_type": "execute_result"
    }
   ],
   "source": [
    "df.head()"
   ]
  },
  {
   "cell_type": "code",
   "execution_count": 19,
   "id": "379c59d8-95fd-4b6c-9fb8-f6e751574eef",
   "metadata": {},
   "outputs": [
    {
     "data": {
      "image/png": "[encoded data removed]",
      "text/plain": [
       "<Figure size 640x480 with 1 Axes>"
      ]
     },
     "metadata": {},
     "output_type": "display_data"
    }
   ],
   "source": [
    "df.plot.line('data_hora_venda', 'valor_venda');"
   ]
  },
  {
   "cell_type": "code",
   "execution_count": null,
   "id": "b3037968-fa00-4dcf-8d83-3467022c3c6f",
   "metadata": {},
   "outputs": [],
   "source": []
  }
 ],
 "metadata": {
  "kernelspec": {
   "display_name": "Python 3 (ipykernel)",
   "language": "python",
   "name": "python3"
  },
  "language_info": {
   "codemirror_mode": {
    "name": "ipython",
    "version": 3
   },
   "file_extension": ".py",
   "mimetype": "text/x-python",
   "name": "python",
   "nbconvert_exporter": "python",
   "pygments_lexer": "ipython3",
   "version": "3.11.7"
  }
 },
 "nbformat": 4,
 "nbformat_minor": 5
}
